{
 "cells": [
  {
   "cell_type": "markdown",
   "metadata": {},
   "source": [
    "# ARFS - fasttreeshap vs shap\n",
    "\n",
    "Leshy, BoostAGroota, and GrootCV are tree-based algorithms. They benefit from a [faster implementation of the Shapley values by LinkedIn](https://engineering.linkedin.com/blog/2022/fasttreeshap--accelerating-shap-value-computation-for-trees), which is claimed to outperform both the treeExplainer in the SHAP package and the native C++ implementation of lightgbm/xgboost/catboost. The improvement in speed will vary depending on the size of the task and your hardware resources (including virtualization for VMs). On older machine, the `fasttreeshap` implementation might actually be slower.\n",
    "\n",
    "However, it currently does not work with xgboost (not a deal breaker because lightgbm is the preferred default)."
   ]
  },
  {
   "cell_type": "code",
   "execution_count": 1,
   "metadata": {},
   "outputs": [
    {
     "name": "stderr",
     "output_type": "stream",
     "text": [
      "Using `tqdm.autonotebook.tqdm` in notebook mode. Use `tqdm.tqdm` instead to force console mode (e.g. in jupyter console)\n"
     ]
    }
   ],
   "source": [
    "import numpy as np\n",
    "import pandas as pd\n",
    "\n",
    "from sklearn.datasets import make_regression\n",
    "from sklearn.model_selection import train_test_split\n",
    "\n",
    "import arfs\n",
    "from arfs.feature_selection import GrootCV, Leshy\n",
    "from arfs.utils import load_data\n",
    "from arfs.benchmark import highlight_tick\n",
    "\n",
    "rng = np.random.RandomState(seed=42)"
   ]
  },
  {
   "cell_type": "code",
   "execution_count": 2,
   "metadata": {},
   "outputs": [
    {
     "name": "stdout",
     "output_type": "stream",
     "text": [
      "The true coefficient of the linear data generating process are:\n",
      " intercept     1.000000\n",
      "pred_0        0.000000\n",
      "pred_1        0.000000\n",
      "pred_2        0.000000\n",
      "pred_3        0.000000\n",
      "               ...    \n",
      "pred_95       0.000000\n",
      "pred_96      10.576299\n",
      "pred_97       0.000000\n",
      "pred_98       0.000000\n",
      "pred_99      62.472033\n",
      "Length: 101, dtype: float64\n"
     ]
    }
   ],
   "source": [
    "# Generate synthetic data with Poisson-distributed target variable\n",
    "bias = 1\n",
    "\n",
    "n_samples = 100_000\n",
    "n_features = 100\n",
    "n_informative = 20\n",
    "\n",
    "X, y, true_coef = make_regression(\n",
    "    n_samples=n_samples,\n",
    "    n_features=n_features,\n",
    "    n_informative=n_informative,\n",
    "    noise=1,\n",
    "    random_state=8,\n",
    "    bias=bias,\n",
    "    coef=True,\n",
    ")\n",
    "y = (y - y.mean()) / y.std()\n",
    "y = np.exp(y)  # Transform to positive values for Poisson distribution\n",
    "y = np.random.poisson(y)  # Add Poisson noise to the target variable\n",
    "# dummy sample weight (e.g. exposure), smallest being 30 days\n",
    "w = np.random.uniform(30 / 365, 1, size=len(y))\n",
    "# make the count a Poisson rate (frequency)\n",
    "y = y / w\n",
    "\n",
    "X = pd.DataFrame(X)\n",
    "X.columns = [f\"pred_{i}\" for i in range(X.shape[1])]\n",
    "\n",
    "# Split the data into training and testing sets\n",
    "X_train, X_test, y_train, y_test, w_train, w_test = train_test_split(\n",
    "    X, y, w, test_size=0.5, random_state=42\n",
    ")\n",
    "\n",
    "true_coef = pd.Series(true_coef)\n",
    "true_coef.index = X.columns\n",
    "true_coef = pd.Series({**{\"intercept\": bias}, **true_coef})\n",
    "true_coef\n",
    "\n",
    "genuine_predictors = true_coef[true_coef > 0.0]\n",
    "\n",
    "print(f\"The true coefficient of the linear data generating process are:\\n {true_coef}\")"
   ]
  },
  {
   "cell_type": "markdown",
   "metadata": {},
   "source": [
    "## GrootCV - fastshap vs shap \n",
    "\n",
    "### Fastshap enable"
   ]
  },
  {
   "cell_type": "code",
   "execution_count": 3,
   "metadata": {},
   "outputs": [
    {
     "data": {
      "application/vnd.jupyter.widget-view+json": {
       "model_id": "b4a9fbb99730414786a1cc452df59ca8",
       "version_major": 2,
       "version_minor": 0
      },
      "text/plain": [
       "Repeated k-fold:   0%|          | 0/9 [00:00<?, ?it/s]"
      ]
     },
     "metadata": {},
     "output_type": "display_data"
    },
    {
     "name": "stdout",
     "output_type": "stream",
     "text": [
      "CPU times: user 10min 34s, sys: 4.55 s, total: 10min 39s\n",
      "Wall time: 3min 11s\n"
     ]
    },
    {
     "data": {
      "text/html": [
       "<style>#sk-container-id-1 {color: black;}#sk-container-id-1 pre{padding: 0;}#sk-container-id-1 div.sk-toggleable {background-color: white;}#sk-container-id-1 label.sk-toggleable__label {cursor: pointer;display: block;width: 100%;margin-bottom: 0;padding: 0.3em;box-sizing: border-box;text-align: center;}#sk-container-id-1 label.sk-toggleable__label-arrow:before {content: \"▸\";float: left;margin-right: 0.25em;color: #696969;}#sk-container-id-1 label.sk-toggleable__label-arrow:hover:before {color: black;}#sk-container-id-1 div.sk-estimator:hover label.sk-toggleable__label-arrow:before {color: black;}#sk-container-id-1 div.sk-toggleable__content {max-height: 0;max-width: 0;overflow: hidden;text-align: left;background-color: #f0f8ff;}#sk-container-id-1 div.sk-toggleable__content pre {margin: 0.2em;color: black;border-radius: 0.25em;background-color: #f0f8ff;}#sk-container-id-1 input.sk-toggleable__control:checked~div.sk-toggleable__content {max-height: 200px;max-width: 100%;overflow: auto;}#sk-container-id-1 input.sk-toggleable__control:checked~label.sk-toggleable__label-arrow:before {content: \"▾\";}#sk-container-id-1 div.sk-estimator input.sk-toggleable__control:checked~label.sk-toggleable__label {background-color: #d4ebff;}#sk-container-id-1 div.sk-label input.sk-toggleable__control:checked~label.sk-toggleable__label {background-color: #d4ebff;}#sk-container-id-1 input.sk-hidden--visually {border: 0;clip: rect(1px 1px 1px 1px);clip: rect(1px, 1px, 1px, 1px);height: 1px;margin: -1px;overflow: hidden;padding: 0;position: absolute;width: 1px;}#sk-container-id-1 div.sk-estimator {font-family: monospace;background-color: #f0f8ff;border: 1px dotted black;border-radius: 0.25em;box-sizing: border-box;margin-bottom: 0.5em;}#sk-container-id-1 div.sk-estimator:hover {background-color: #d4ebff;}#sk-container-id-1 div.sk-parallel-item::after {content: \"\";width: 100%;border-bottom: 1px solid gray;flex-grow: 1;}#sk-container-id-1 div.sk-label:hover label.sk-toggleable__label {background-color: #d4ebff;}#sk-container-id-1 div.sk-serial::before {content: \"\";position: absolute;border-left: 1px solid gray;box-sizing: border-box;top: 0;bottom: 0;left: 50%;z-index: 0;}#sk-container-id-1 div.sk-serial {display: flex;flex-direction: column;align-items: center;background-color: white;padding-right: 0.2em;padding-left: 0.2em;position: relative;}#sk-container-id-1 div.sk-item {position: relative;z-index: 1;}#sk-container-id-1 div.sk-parallel {display: flex;align-items: stretch;justify-content: center;background-color: white;position: relative;}#sk-container-id-1 div.sk-item::before, #sk-container-id-1 div.sk-parallel-item::before {content: \"\";position: absolute;border-left: 1px solid gray;box-sizing: border-box;top: 0;bottom: 0;left: 50%;z-index: -1;}#sk-container-id-1 div.sk-parallel-item {display: flex;flex-direction: column;z-index: 1;position: relative;background-color: white;}#sk-container-id-1 div.sk-parallel-item:first-child::after {align-self: flex-end;width: 50%;}#sk-container-id-1 div.sk-parallel-item:last-child::after {align-self: flex-start;width: 50%;}#sk-container-id-1 div.sk-parallel-item:only-child::after {width: 0;}#sk-container-id-1 div.sk-dashed-wrapped {border: 1px dashed gray;margin: 0 0.4em 0.5em 0.4em;box-sizing: border-box;padding-bottom: 0.4em;background-color: white;}#sk-container-id-1 div.sk-label label {font-family: monospace;font-weight: bold;display: inline-block;line-height: 1.2em;}#sk-container-id-1 div.sk-label-container {text-align: center;}#sk-container-id-1 div.sk-container {/* jupyter's `normalize.less` sets `[hidden] { display: none; }` but bootstrap.min.css set `[hidden] { display: none !important; }` so we also need the `!important` here to be able to override the default hidden behavior on the sphinx rendered scikit-learn.org. See: https://github.com/scikit-learn/scikit-learn/issues/21755 */display: inline-block !important;position: relative;}#sk-container-id-1 div.sk-text-repr-fallback {display: none;}</style><div id=\"sk-container-id-1\" class=\"sk-top-container\"><div class=\"sk-text-repr-fallback\"><pre>GrootCV(fastshap=True,\n",
       "        lgbm_params={&#x27;device&#x27;: &#x27;cpu&#x27;, &#x27;num_threads&#x27;: 0, &#x27;objective&#x27;: &#x27;rmse&#x27;,\n",
       "                     &#x27;verbosity&#x27;: -1},\n",
       "        n_folds=3, n_iter=3, objective=&#x27;rmse&#x27;)</pre><b>In a Jupyter environment, please rerun this cell to show the HTML representation or trust the notebook. <br />On GitHub, the HTML representation is unable to render, please try loading this page with nbviewer.org.</b></div><div class=\"sk-container\" hidden><div class=\"sk-item\"><div class=\"sk-estimator sk-toggleable\"><input class=\"sk-toggleable__control sk-hidden--visually\" id=\"sk-estimator-id-1\" type=\"checkbox\" checked><label for=\"sk-estimator-id-1\" class=\"sk-toggleable__label sk-toggleable__label-arrow\">GrootCV</label><div class=\"sk-toggleable__content\"><pre>GrootCV(fastshap=True,\n",
       "        lgbm_params={&#x27;device&#x27;: &#x27;cpu&#x27;, &#x27;num_threads&#x27;: 0, &#x27;objective&#x27;: &#x27;rmse&#x27;,\n",
       "                     &#x27;verbosity&#x27;: -1},\n",
       "        n_folds=3, n_iter=3, objective=&#x27;rmse&#x27;)</pre></div></div></div></div></div>"
      ],
      "text/plain": [
       "GrootCV(fastshap=True,\n",
       "        lgbm_params={'device': 'cpu', 'num_threads': 0, 'objective': 'rmse',\n",
       "                     'verbosity': -1},\n",
       "        n_folds=3, n_iter=3, objective='rmse')"
      ]
     },
     "execution_count": 3,
     "metadata": {},
     "output_type": "execute_result"
    }
   ],
   "source": [
    "%%time\n",
    "feat_selector = GrootCV(\n",
    "    objective=\"rmse\",\n",
    "    cutoff=1,\n",
    "    n_folds=3,\n",
    "    n_iter=3,\n",
    "    silent=True,\n",
    "    fastshap=True,\n",
    "    n_jobs=0,\n",
    "    lgbm_params={\"device\": \"cpu\"},\n",
    ")\n",
    "feat_selector.fit(X_train, y_train, sample_weight=None)"
   ]
  },
  {
   "cell_type": "code",
   "execution_count": 4,
   "metadata": {},
   "outputs": [
    {
     "name": "stdout",
     "output_type": "stream",
     "text": [
      "The selected features: ['pred_7' 'pred_9' 'pred_15' 'pred_23' 'pred_27' 'pred_31' 'pred_35'\n",
      " 'pred_39' 'pred_41' 'pred_46' 'pred_48' 'pred_49' 'pred_52' 'pred_66'\n",
      " 'pred_71' 'pred_79' 'pred_85' 'pred_96' 'pred_99']\n",
      "The agnostic ranking: [1 1 1 1 1 1 1 2 1 2 1 1 1 1 1 2 1 1 1 1 1 1 1 2 1 1 1 2 1 1 1 2 1 1 1 2 1\n",
      " 1 1 2 1 2 1 1 1 1 2 1 2 2 1 1 2 1 1 1 1 1 1 1 1 1 1 1 1 1 2 1 1 1 1 2 1 1\n",
      " 1 1 1 1 1 2 1 1 1 1 1 2 1 1 1 1 1 1 1 1 1 1 2 1 1 2]\n",
      "The naive ranking: ['pred_7', 'pred_9', 'pred_31', 'pred_49', 'pred_41', 'pred_52', 'pred_71', 'pred_66', 'pred_27', 'pred_99', 'pred_23', 'pred_79', 'pred_39', 'pred_35', 'pred_85', 'pred_48', 'pred_46', 'pred_96', 'pred_15', 'pred_89', 'pred_21', 'pred_38', 'pred_32', 'pred_16', 'pred_69', 'pred_47', 'pred_50', 'pred_28', 'pred_60', 'pred_44', 'pred_67', 'pred_61', 'pred_34', 'pred_84', 'pred_17', 'pred_37', 'pred_29', 'pred_70', 'pred_5', 'pred_62', 'pred_19', 'pred_78', 'pred_59', 'pred_82', 'pred_64', 'pred_24', 'pred_92', 'pred_22', 'pred_80', 'pred_97', 'pred_95', 'pred_68', 'pred_58', 'pred_81', 'pred_91', 'pred_77', 'pred_53', 'pred_36', 'pred_10', 'pred_74', 'pred_45', 'pred_93', 'pred_30', 'pred_4', 'pred_65', 'pred_63', 'pred_76', 'pred_54', 'pred_43', 'pred_8', 'pred_56', 'pred_72', 'pred_0', 'pred_20', 'pred_11', 'pred_75', 'pred_83', 'pred_73', 'pred_18', 'pred_57', 'pred_14', 'pred_55', 'pred_12', 'pred_98', 'pred_88', 'pred_87', 'pred_26', 'pred_90', 'pred_42', 'pred_1', 'pred_33', 'pred_25', 'pred_94', 'pred_51', 'pred_2', 'pred_6', 'pred_40', 'pred_3', 'pred_13', 'pred_86']\n"
     ]
    }
   ],
   "source": [
    "print(f\"The selected features: {feat_selector.get_feature_names_out()}\")\n",
    "print(f\"The agnostic ranking: {feat_selector.ranking_}\")\n",
    "print(f\"The naive ranking: {feat_selector.ranking_absolutes_}\")\n",
    "\n",
    "\n",
    "# fig = feat_selector.plot_importance(n_feat_per_inch=5)\n",
    "# # highlight synthetic random variable\n",
    "# for name in true_coef.index:\n",
    "#     if name in genuine_predictors.index:\n",
    "#         fig = highlight_tick(figure=fig, str_match=name, color=\"green\")\n",
    "#     else:\n",
    "#         fig = highlight_tick(figure=fig, str_match=name)\n",
    "\n",
    "# plt.show()"
   ]
  },
  {
   "cell_type": "markdown",
   "metadata": {},
   "source": [
    "### Fastshap disable"
   ]
  },
  {
   "cell_type": "code",
   "execution_count": 5,
   "metadata": {},
   "outputs": [
    {
     "data": {
      "application/vnd.jupyter.widget-view+json": {
       "model_id": "ecc5744cca034da7bd6a5a58e6f0dc34",
       "version_major": 2,
       "version_minor": 0
      },
      "text/plain": [
       "Repeated k-fold:   0%|          | 0/9 [00:00<?, ?it/s]"
      ]
     },
     "metadata": {},
     "output_type": "display_data"
    },
    {
     "name": "stdout",
     "output_type": "stream",
     "text": [
      "CPU times: user 18min 15s, sys: 3.74 s, total: 18min 19s\n",
      "Wall time: 5min 23s\n"
     ]
    },
    {
     "data": {
      "text/html": [
       "<style>#sk-container-id-2 {color: black;}#sk-container-id-2 pre{padding: 0;}#sk-container-id-2 div.sk-toggleable {background-color: white;}#sk-container-id-2 label.sk-toggleable__label {cursor: pointer;display: block;width: 100%;margin-bottom: 0;padding: 0.3em;box-sizing: border-box;text-align: center;}#sk-container-id-2 label.sk-toggleable__label-arrow:before {content: \"▸\";float: left;margin-right: 0.25em;color: #696969;}#sk-container-id-2 label.sk-toggleable__label-arrow:hover:before {color: black;}#sk-container-id-2 div.sk-estimator:hover label.sk-toggleable__label-arrow:before {color: black;}#sk-container-id-2 div.sk-toggleable__content {max-height: 0;max-width: 0;overflow: hidden;text-align: left;background-color: #f0f8ff;}#sk-container-id-2 div.sk-toggleable__content pre {margin: 0.2em;color: black;border-radius: 0.25em;background-color: #f0f8ff;}#sk-container-id-2 input.sk-toggleable__control:checked~div.sk-toggleable__content {max-height: 200px;max-width: 100%;overflow: auto;}#sk-container-id-2 input.sk-toggleable__control:checked~label.sk-toggleable__label-arrow:before {content: \"▾\";}#sk-container-id-2 div.sk-estimator input.sk-toggleable__control:checked~label.sk-toggleable__label {background-color: #d4ebff;}#sk-container-id-2 div.sk-label input.sk-toggleable__control:checked~label.sk-toggleable__label {background-color: #d4ebff;}#sk-container-id-2 input.sk-hidden--visually {border: 0;clip: rect(1px 1px 1px 1px);clip: rect(1px, 1px, 1px, 1px);height: 1px;margin: -1px;overflow: hidden;padding: 0;position: absolute;width: 1px;}#sk-container-id-2 div.sk-estimator {font-family: monospace;background-color: #f0f8ff;border: 1px dotted black;border-radius: 0.25em;box-sizing: border-box;margin-bottom: 0.5em;}#sk-container-id-2 div.sk-estimator:hover {background-color: #d4ebff;}#sk-container-id-2 div.sk-parallel-item::after {content: \"\";width: 100%;border-bottom: 1px solid gray;flex-grow: 1;}#sk-container-id-2 div.sk-label:hover label.sk-toggleable__label {background-color: #d4ebff;}#sk-container-id-2 div.sk-serial::before {content: \"\";position: absolute;border-left: 1px solid gray;box-sizing: border-box;top: 0;bottom: 0;left: 50%;z-index: 0;}#sk-container-id-2 div.sk-serial {display: flex;flex-direction: column;align-items: center;background-color: white;padding-right: 0.2em;padding-left: 0.2em;position: relative;}#sk-container-id-2 div.sk-item {position: relative;z-index: 1;}#sk-container-id-2 div.sk-parallel {display: flex;align-items: stretch;justify-content: center;background-color: white;position: relative;}#sk-container-id-2 div.sk-item::before, #sk-container-id-2 div.sk-parallel-item::before {content: \"\";position: absolute;border-left: 1px solid gray;box-sizing: border-box;top: 0;bottom: 0;left: 50%;z-index: -1;}#sk-container-id-2 div.sk-parallel-item {display: flex;flex-direction: column;z-index: 1;position: relative;background-color: white;}#sk-container-id-2 div.sk-parallel-item:first-child::after {align-self: flex-end;width: 50%;}#sk-container-id-2 div.sk-parallel-item:last-child::after {align-self: flex-start;width: 50%;}#sk-container-id-2 div.sk-parallel-item:only-child::after {width: 0;}#sk-container-id-2 div.sk-dashed-wrapped {border: 1px dashed gray;margin: 0 0.4em 0.5em 0.4em;box-sizing: border-box;padding-bottom: 0.4em;background-color: white;}#sk-container-id-2 div.sk-label label {font-family: monospace;font-weight: bold;display: inline-block;line-height: 1.2em;}#sk-container-id-2 div.sk-label-container {text-align: center;}#sk-container-id-2 div.sk-container {/* jupyter's `normalize.less` sets `[hidden] { display: none; }` but bootstrap.min.css set `[hidden] { display: none !important; }` so we also need the `!important` here to be able to override the default hidden behavior on the sphinx rendered scikit-learn.org. See: https://github.com/scikit-learn/scikit-learn/issues/21755 */display: inline-block !important;position: relative;}#sk-container-id-2 div.sk-text-repr-fallback {display: none;}</style><div id=\"sk-container-id-2\" class=\"sk-top-container\"><div class=\"sk-text-repr-fallback\"><pre>GrootCV(lgbm_params={&#x27;device&#x27;: &#x27;cpu&#x27;, &#x27;num_threads&#x27;: 0, &#x27;objective&#x27;: &#x27;rmse&#x27;,\n",
       "                     &#x27;verbosity&#x27;: -1},\n",
       "        n_folds=3, n_iter=3, objective=&#x27;rmse&#x27;)</pre><b>In a Jupyter environment, please rerun this cell to show the HTML representation or trust the notebook. <br />On GitHub, the HTML representation is unable to render, please try loading this page with nbviewer.org.</b></div><div class=\"sk-container\" hidden><div class=\"sk-item\"><div class=\"sk-estimator sk-toggleable\"><input class=\"sk-toggleable__control sk-hidden--visually\" id=\"sk-estimator-id-2\" type=\"checkbox\" checked><label for=\"sk-estimator-id-2\" class=\"sk-toggleable__label sk-toggleable__label-arrow\">GrootCV</label><div class=\"sk-toggleable__content\"><pre>GrootCV(lgbm_params={&#x27;device&#x27;: &#x27;cpu&#x27;, &#x27;num_threads&#x27;: 0, &#x27;objective&#x27;: &#x27;rmse&#x27;,\n",
       "                     &#x27;verbosity&#x27;: -1},\n",
       "        n_folds=3, n_iter=3, objective=&#x27;rmse&#x27;)</pre></div></div></div></div></div>"
      ],
      "text/plain": [
       "GrootCV(lgbm_params={'device': 'cpu', 'num_threads': 0, 'objective': 'rmse',\n",
       "                     'verbosity': -1},\n",
       "        n_folds=3, n_iter=3, objective='rmse')"
      ]
     },
     "execution_count": 5,
     "metadata": {},
     "output_type": "execute_result"
    }
   ],
   "source": [
    "%%time\n",
    "feat_selector = GrootCV(\n",
    "    objective=\"rmse\",\n",
    "    cutoff=1,\n",
    "    n_folds=3,\n",
    "    n_iter=3,\n",
    "    silent=True,\n",
    "    fastshap=False,\n",
    "    n_jobs=0,\n",
    "    lgbm_params={\"device\": \"cpu\"},\n",
    ")\n",
    "feat_selector.fit(X_train, y_train, sample_weight=None)"
   ]
  },
  {
   "cell_type": "code",
   "execution_count": 6,
   "metadata": {},
   "outputs": [
    {
     "name": "stdout",
     "output_type": "stream",
     "text": [
      "The selected features: ['pred_7' 'pred_9' 'pred_15' 'pred_23' 'pred_27' 'pred_31' 'pred_35'\n",
      " 'pred_39' 'pred_41' 'pred_46' 'pred_48' 'pred_49' 'pred_52' 'pred_66'\n",
      " 'pred_71' 'pred_79' 'pred_85' 'pred_96' 'pred_99']\n",
      "The agnostic ranking: [1 1 1 1 1 1 1 2 1 2 1 1 1 1 1 2 1 1 1 1 1 1 1 2 1 1 1 2 1 1 1 2 1 1 1 2 1\n",
      " 1 1 2 1 2 1 1 1 1 2 1 2 2 1 1 2 1 1 1 1 1 1 1 1 1 1 1 1 1 2 1 1 1 1 2 1 1\n",
      " 1 1 1 1 1 2 1 1 1 1 1 2 1 1 1 1 1 1 1 1 1 1 2 1 1 2]\n",
      "The naive ranking: ['pred_7', 'pred_9', 'pred_31', 'pred_49', 'pred_41', 'pred_52', 'pred_71', 'pred_66', 'pred_27', 'pred_99', 'pred_23', 'pred_79', 'pred_39', 'pred_35', 'pred_85', 'pred_48', 'pred_46', 'pred_96', 'pred_15', 'pred_38', 'pred_32', 'pred_21', 'pred_89', 'pred_50', 'pred_5', 'pred_17', 'pred_29', 'pred_28', 'pred_69', 'pred_61', 'pred_84', 'pred_58', 'pred_67', 'pred_59', 'pred_68', 'pred_34', 'pred_97', 'pred_47', 'pred_60', 'pred_91', 'pred_75', 'pred_22', 'pred_10', 'pred_82', 'pred_16', 'pred_78', 'pred_42', 'pred_95', 'pred_80', 'pred_37', 'pred_2', 'pred_62', 'pred_76', 'pred_92', 'pred_20', 'pred_77', 'pred_19', 'pred_24', 'pred_63', 'pred_93', 'pred_44', 'pred_11', 'pred_53', 'pred_65', 'pred_33', 'pred_45', 'pred_14', 'pred_98', 'pred_57', 'pred_64', 'pred_30', 'pred_81', 'pred_83', 'pred_87', 'pred_25', 'pred_51', 'pred_70', 'pred_8', 'pred_36', 'pred_55', 'pred_0', 'pred_88', 'pred_43', 'pred_12', 'pred_4', 'pred_74', 'pred_72', 'pred_54', 'pred_1', 'pred_13', 'pred_73', 'pred_40', 'pred_56', 'pred_3', 'pred_26', 'pred_18', 'pred_94', 'pred_6', 'pred_86', 'pred_90']\n"
     ]
    }
   ],
   "source": [
    "print(f\"The selected features: {feat_selector.get_feature_names_out()}\")\n",
    "print(f\"The agnostic ranking: {feat_selector.ranking_}\")\n",
    "print(f\"The naive ranking: {feat_selector.ranking_absolutes_}\")"
   ]
  }
 ],
 "metadata": {
  "kernelspec": {
   "display_name": "arfs",
   "language": "python",
   "name": "python3"
  },
  "language_info": {
   "codemirror_mode": {
    "name": "ipython",
    "version": 3
   },
   "file_extension": ".py",
   "mimetype": "text/x-python",
   "name": "python",
   "nbconvert_exporter": "python",
   "pygments_lexer": "ipython3",
   "version": "3.10.12"
  },
  "orig_nbformat": 4
 },
 "nbformat": 4,
 "nbformat_minor": 2
}
