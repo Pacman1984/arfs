{
 "cells": [
  {
   "cell_type": "markdown",
   "metadata": {},
   "source": [
    "# How to use with large data? \n",
    "\n",
    "It might be than the data set is too large for All Relevant Feature Selection to run in a reasonable time. Usually random sampling (stratified, grouped, etc) solves this issues. If extreme sampling is needed, ARFS provide two methods for decreasing drastically the number of rows. The sampling methods and outcomes are illustrated below.\n"
   ]
  },
  {
   "cell_type": "code",
   "execution_count": 20,
   "metadata": {},
   "outputs": [],
   "source": [
    "# from IPython.core.display import display, HTML\n",
    "# display(HTML(\"<style>.container { width:95% !important; }</style>\"))\n",
    "import numpy as np\n",
    "import pandas as pd\n",
    "import matplotlib.pyplot as plt\n",
    "import gc\n",
    "import arfs.featselect as arfsfs\n",
    "import arfs.allrelevant as arfsgroot\n",
    "from arfs.utils import highlight_tick\n",
    "from arfs.utils import load_data\n",
    "from arfs.sampling import sample\n",
    "\n",
    "plt.style.use('fivethirtyeight')\n",
    "rng = np.random.RandomState(seed=42)\n",
    "\n",
    "import warnings\n",
    "warnings.filterwarnings('ignore')"
   ]
  },
  {
   "cell_type": "code",
   "execution_count": 21,
   "metadata": {},
   "outputs": [],
   "source": [
    "%matplotlib inline"
   ]
  },
  {
   "cell_type": "code",
   "execution_count": 22,
   "metadata": {},
   "outputs": [
    {
     "data": {
      "text/plain": [
       "1223"
      ]
     },
     "execution_count": 22,
     "metadata": {},
     "output_type": "execute_result"
    }
   ],
   "source": [
    "gc.enable()\n",
    "gc.collect()"
   ]
  },
  {
   "cell_type": "markdown",
   "metadata": {},
   "source": [
    "## Sampling data\n",
    "\n",
    "A fairly large data set for illustration"
   ]
  },
  {
   "cell_type": "code",
   "execution_count": 23,
   "metadata": {},
   "outputs": [
    {
     "data": {
      "text/html": [
       "<div>\n",
       "<style scoped>\n",
       "    .dataframe tbody tr th:only-of-type {\n",
       "        vertical-align: middle;\n",
       "    }\n",
       "\n",
       "    .dataframe tbody tr th {\n",
       "        vertical-align: top;\n",
       "    }\n",
       "\n",
       "    .dataframe thead th {\n",
       "        text-align: right;\n",
       "    }\n",
       "</style>\n",
       "<table border=\"1\" class=\"dataframe\">\n",
       "  <thead>\n",
       "    <tr style=\"text-align: right;\">\n",
       "      <th></th>\n",
       "      <th>MedInc</th>\n",
       "      <th>HouseAge</th>\n",
       "      <th>AveRooms</th>\n",
       "      <th>AveBedrms</th>\n",
       "      <th>Population</th>\n",
       "      <th>AveOccup</th>\n",
       "      <th>Latitude</th>\n",
       "      <th>Longitude</th>\n",
       "    </tr>\n",
       "  </thead>\n",
       "  <tbody>\n",
       "    <tr>\n",
       "      <th>0</th>\n",
       "      <td>8.3252</td>\n",
       "      <td>41.0</td>\n",
       "      <td>6.984127</td>\n",
       "      <td>1.023810</td>\n",
       "      <td>322.0</td>\n",
       "      <td>2.555556</td>\n",
       "      <td>37.88</td>\n",
       "      <td>-122.23</td>\n",
       "    </tr>\n",
       "    <tr>\n",
       "      <th>1</th>\n",
       "      <td>8.3014</td>\n",
       "      <td>21.0</td>\n",
       "      <td>6.238137</td>\n",
       "      <td>0.971880</td>\n",
       "      <td>2401.0</td>\n",
       "      <td>2.109842</td>\n",
       "      <td>37.86</td>\n",
       "      <td>-122.22</td>\n",
       "    </tr>\n",
       "    <tr>\n",
       "      <th>2</th>\n",
       "      <td>7.2574</td>\n",
       "      <td>52.0</td>\n",
       "      <td>8.288136</td>\n",
       "      <td>1.073446</td>\n",
       "      <td>496.0</td>\n",
       "      <td>2.802260</td>\n",
       "      <td>37.85</td>\n",
       "      <td>-122.24</td>\n",
       "    </tr>\n",
       "    <tr>\n",
       "      <th>3</th>\n",
       "      <td>5.6431</td>\n",
       "      <td>52.0</td>\n",
       "      <td>5.817352</td>\n",
       "      <td>1.073059</td>\n",
       "      <td>558.0</td>\n",
       "      <td>2.547945</td>\n",
       "      <td>37.85</td>\n",
       "      <td>-122.25</td>\n",
       "    </tr>\n",
       "    <tr>\n",
       "      <th>4</th>\n",
       "      <td>3.8462</td>\n",
       "      <td>52.0</td>\n",
       "      <td>6.281853</td>\n",
       "      <td>1.081081</td>\n",
       "      <td>565.0</td>\n",
       "      <td>2.181467</td>\n",
       "      <td>37.85</td>\n",
       "      <td>-122.25</td>\n",
       "    </tr>\n",
       "  </tbody>\n",
       "</table>\n",
       "</div>"
      ],
      "text/plain": [
       "   MedInc  HouseAge  AveRooms  AveBedrms  Population  AveOccup  Latitude  \\\n",
       "0  8.3252      41.0  6.984127   1.023810       322.0  2.555556     37.88   \n",
       "1  8.3014      21.0  6.238137   0.971880      2401.0  2.109842     37.86   \n",
       "2  7.2574      52.0  8.288136   1.073446       496.0  2.802260     37.85   \n",
       "3  5.6431      52.0  5.817352   1.073059       558.0  2.547945     37.85   \n",
       "4  3.8462      52.0  6.281853   1.081081       565.0  2.181467     37.85   \n",
       "\n",
       "   Longitude  \n",
       "0    -122.23  \n",
       "1    -122.22  \n",
       "2    -122.24  \n",
       "3    -122.25  \n",
       "4    -122.25  "
      ]
     },
     "execution_count": 23,
     "metadata": {},
     "output_type": "execute_result"
    }
   ],
   "source": [
    "# X, y, w = _generated_corr_dataset_regr(size=100_000)\n",
    "\n",
    "housing = load_data(name='housing')\n",
    "X, y = housing.data, housing.target\n",
    "\n",
    "X = pd.DataFrame(X)\n",
    "X.columns = housing.feature_names\n",
    "y = pd.Series(y)\n",
    "X.head()"
   ]
  },
  {
   "cell_type": "markdown",
   "metadata": {},
   "source": [
    "## Cleaning the data"
   ]
  },
  {
   "cell_type": "code",
   "execution_count": 24,
   "metadata": {},
   "outputs": [
    {
     "name": "stdout",
     "output_type": "stream",
     "text": [
      "0 features with greater than 0.20 missing values.\n",
      "\n",
      "0 features with a single unique value.\n",
      "\n",
      "0 features with a cardinality larger than 2000\n",
      "Corr matrix done,    0 min and    0 min from start\n",
      "2 features with a correlation magnitude greater than 0.50.\n",
      "\n",
      "Total of 2 features identified for removal\n",
      "CPU times: total: 781 ms\n",
      "Wall time: 236 ms\n"
     ]
    },
    {
     "data": {
      "text/html": [
       "<div>\n",
       "<style scoped>\n",
       "    .dataframe tbody tr th:only-of-type {\n",
       "        vertical-align: middle;\n",
       "    }\n",
       "\n",
       "    .dataframe tbody tr th {\n",
       "        vertical-align: top;\n",
       "    }\n",
       "\n",
       "    .dataframe thead th {\n",
       "        text-align: right;\n",
       "    }\n",
       "</style>\n",
       "<table border=\"1\" class=\"dataframe\">\n",
       "  <thead>\n",
       "    <tr style=\"text-align: right;\">\n",
       "      <th></th>\n",
       "      <th>predictor</th>\n",
       "      <th>missing</th>\n",
       "      <th>single_unique</th>\n",
       "      <th>high_cardinality</th>\n",
       "      <th>collinear</th>\n",
       "    </tr>\n",
       "  </thead>\n",
       "  <tbody>\n",
       "    <tr>\n",
       "      <th>0</th>\n",
       "      <td>MedInc</td>\n",
       "      <td>1</td>\n",
       "      <td>1</td>\n",
       "      <td>1</td>\n",
       "      <td>1</td>\n",
       "    </tr>\n",
       "    <tr>\n",
       "      <th>1</th>\n",
       "      <td>HouseAge</td>\n",
       "      <td>1</td>\n",
       "      <td>1</td>\n",
       "      <td>1</td>\n",
       "      <td>1</td>\n",
       "    </tr>\n",
       "    <tr>\n",
       "      <th>2</th>\n",
       "      <td>AveRooms</td>\n",
       "      <td>1</td>\n",
       "      <td>1</td>\n",
       "      <td>1</td>\n",
       "      <td>0</td>\n",
       "    </tr>\n",
       "    <tr>\n",
       "      <th>3</th>\n",
       "      <td>AveBedrms</td>\n",
       "      <td>1</td>\n",
       "      <td>1</td>\n",
       "      <td>1</td>\n",
       "      <td>1</td>\n",
       "    </tr>\n",
       "    <tr>\n",
       "      <th>4</th>\n",
       "      <td>Population</td>\n",
       "      <td>1</td>\n",
       "      <td>1</td>\n",
       "      <td>1</td>\n",
       "      <td>1</td>\n",
       "    </tr>\n",
       "    <tr>\n",
       "      <th>5</th>\n",
       "      <td>AveOccup</td>\n",
       "      <td>1</td>\n",
       "      <td>1</td>\n",
       "      <td>1</td>\n",
       "      <td>1</td>\n",
       "    </tr>\n",
       "    <tr>\n",
       "      <th>6</th>\n",
       "      <td>Latitude</td>\n",
       "      <td>1</td>\n",
       "      <td>1</td>\n",
       "      <td>1</td>\n",
       "      <td>1</td>\n",
       "    </tr>\n",
       "    <tr>\n",
       "      <th>7</th>\n",
       "      <td>Longitude</td>\n",
       "      <td>1</td>\n",
       "      <td>1</td>\n",
       "      <td>1</td>\n",
       "      <td>0</td>\n",
       "    </tr>\n",
       "  </tbody>\n",
       "</table>\n",
       "</div>"
      ],
      "text/plain": [
       "    predictor  missing  single_unique  high_cardinality  collinear\n",
       "0      MedInc        1              1                 1          1\n",
       "1    HouseAge        1              1                 1          1\n",
       "2    AveRooms        1              1                 1          0\n",
       "3   AveBedrms        1              1                 1          1\n",
       "4  Population        1              1                 1          1\n",
       "5    AveOccup        1              1                 1          1\n",
       "6    Latitude        1              1                 1          1\n",
       "7   Longitude        1              1                 1          0"
      ]
     },
     "execution_count": 24,
     "metadata": {},
     "output_type": "execute_result"
    }
   ],
   "source": [
    "%%time\n",
    "# X is the predictor DF (e.g: df[predictor_list]), at this stage you don't need to \n",
    "# specify the target and weights (only for identifying zero and low importance)\n",
    "fs = arfsfs.FeatureSelector(X=X, y=y, sample_weight=None)\n",
    "# filter out missing and store in dic\n",
    "\n",
    "fs.identify_missing(missing_threshold=0.2)\n",
    "fsDic = {}\n",
    "fsDic['missing'] = fs.ops['missing']\n",
    "\n",
    "fs.identify_single_unique()\n",
    "fsDic['single_unique'] = fs.ops['single_unique']\n",
    "\n",
    "fs.identify_high_cardinality(max_card=2000)\n",
    "fsDic['high_cardinality'] =  fs.ops['high_cardinality']\n",
    "\n",
    "fs.identify_collinear(correlation_threshold=0.5, encode=False)\n",
    "fsDic['collinear'] = sorted(fs.ops['collinear'])\n",
    "\n",
    "cols_to_drop = fs.check_removal()\n",
    "filtered_features = list( set(X.columns) - set(cols_to_drop) )\n",
    "X_red = X[filtered_features].copy()\n",
    "# tagging and keeping track of everything\n",
    "fs_df = fs.tag_df\n",
    "fs_df"
   ]
  },
  {
   "cell_type": "code",
   "execution_count": 25,
   "metadata": {},
   "outputs": [],
   "source": [
    "data = X_red.copy()\n",
    "data['target'] = y"
   ]
  },
  {
   "cell_type": "code",
   "execution_count": 26,
   "metadata": {},
   "outputs": [
    {
     "name": "stdout",
     "output_type": "stream",
     "text": [
      "The dataset shape is (20640, 7)\n"
     ]
    }
   ],
   "source": [
    "print(f\"The dataset shape is {data.shape}\")"
   ]
  },
  {
   "cell_type": "markdown",
   "metadata": {},
   "source": [
    "## Random sampling\n",
    "You can sample using pandas or scikit-learn (providing more advanced random sampling, as stratified sampling, depending on the task)."
   ]
  },
  {
   "cell_type": "code",
   "execution_count": 27,
   "metadata": {},
   "outputs": [
    {
     "name": "stdout",
     "output_type": "stream",
     "text": [
      "The sampled dataset shape is (1000, 7)\n"
     ]
    }
   ],
   "source": [
    "data_rnd_samp = data.sample(n=1_000)\n",
    "print(f\"The sampled dataset shape is {data_rnd_samp.shape}\")"
   ]
  },
  {
   "cell_type": "markdown",
   "metadata": {},
   "source": [
    "## Sampling by clustering the rows\n",
    "Using the Gower distance (handling mixed-type data), the rows are clustered and the average/mode for each column is returned. The larger the number of clusters, the closer to the original data. As it requires the computation of a distance matrix, you might need to use random sampling first to avoid a computational bottleneck. "
   ]
  },
  {
   "cell_type": "code",
   "execution_count": 28,
   "metadata": {},
   "outputs": [
    {
     "name": "stdout",
     "output_type": "stream",
     "text": [
      "The sampled dataset shape is (1000, 7)\n",
      "CPU times: total: 51.6 s\n",
      "Wall time: 52.3 s\n"
     ]
    }
   ],
   "source": [
    "%%time\n",
    "data_dum = data.sample(n=10_000)\n",
    "data_dum = data.copy()\n",
    "# Compute a distance matrix, 10_000x10_000 and use it for clustering (1_000 clusters)\n",
    "data_g_samp = sample(df=data_dum, n=1_000, sample_weight=None, method='gower')\n",
    "print(f\"The sampled dataset shape is {data_g_samp.shape}\")"
   ]
  },
  {
   "cell_type": "markdown",
   "metadata": {},
   "source": [
    "## Sampling by removing outliers\n",
    "\n",
    "This method is adapted from BorutaShap. It uses `IsolationForest` to remove the less similar samples and iterates till the 2-sample KS statistics is > $95\\%$ (for having a similar distribution than the original data). There is no guarantee of the output size."
   ]
  },
  {
   "cell_type": "code",
   "execution_count": 29,
   "metadata": {},
   "outputs": [
    {
     "name": "stdout",
     "output_type": "stream",
     "text": [
      "The sampled dataset shape is (2064, 7)\n",
      "CPU times: total: 969 ms\n",
      "Wall time: 964 ms\n"
     ]
    }
   ],
   "source": [
    "%%time\n",
    "data_isof_samp = sample(df=data, sample_weight=None, method='isoforest')\n",
    "print(f\"The sampled dataset shape is {data_isof_samp.shape}\")"
   ]
  },
  {
   "cell_type": "markdown",
   "metadata": {},
   "source": [
    "## Impact on the feature selection\n",
    "Let's perform the feature selection on this toy data set to see what is the impact of the different sampling strategies."
   ]
  },
  {
   "cell_type": "code",
   "execution_count": 30,
   "metadata": {},
   "outputs": [
    {
     "name": "stderr",
     "output_type": "stream",
     "text": [
      "Repeated k-fold: 100%|██████████| 25/25 [01:35<00:00,  3.82s/it]\n"
     ]
    },
    {
     "name": "stdout",
     "output_type": "stream",
     "text": [
      "0      AveOccup\n",
      "1     AveBedrms\n",
      "2    Population\n",
      "3      Latitude\n",
      "4      HouseAge\n",
      "5        MedInc\n",
      "Name: feature, dtype: object\n"
     ]
    },
    {
     "data": {
      "image/png": "[encoded data removed]",
      "text/plain": [
       "<Figure size 1152x86.4 with 1 Axes>"
      ]
     },
     "metadata": {},
     "output_type": "display_data"
    },
    {
     "name": "stdout",
     "output_type": "stream",
     "text": [
      "CPU times: total: 9min 56s\n",
      "Wall time: 1min 36s\n"
     ]
    }
   ],
   "source": [
    "%%time\n",
    "# No Sampling\n",
    "X = data.drop('target', axis=1)\n",
    "y = data.target\n",
    "\n",
    "# GrootCV\n",
    "feat_selector = arfsgroot.GrootCV(objective='rmse', cutoff=1, n_folds=5, n_iter=5, silent=True)\n",
    "feat_selector.fit(X, y, sample_weight=None)\n",
    "print(feat_selector.support_names_)\n",
    "fig = feat_selector.plot_importance(n_feat_per_inch=5)\n",
    "\n",
    "# highlight synthetic random variable\n",
    "fig = highlight_tick(figure=fig, str_match='random')\n",
    "fig = highlight_tick(figure=fig, str_match='genuine', color='green')\n",
    "plt.show()"
   ]
  },
  {
   "cell_type": "code",
   "execution_count": 31,
   "metadata": {},
   "outputs": [
    {
     "name": "stderr",
     "output_type": "stream",
     "text": [
      "Repeated k-fold: 100%|██████████| 25/25 [00:04<00:00,  5.85it/s]\n"
     ]
    },
    {
     "name": "stdout",
     "output_type": "stream",
     "text": [
      "0      AveOccup\n",
      "1     AveBedrms\n",
      "2    Population\n",
      "3      Latitude\n",
      "4      HouseAge\n",
      "5        MedInc\n",
      "Name: feature, dtype: object\n"
     ]
    },
    {
     "data": {
      "image/png": "[encoded data removed]",
      "text/plain": [
       "<Figure size 1152x86.4 with 1 Axes>"
      ]
     },
     "metadata": {},
     "output_type": "display_data"
    },
    {
     "name": "stdout",
     "output_type": "stream",
     "text": [
      "CPU times: total: 25.5 s\n",
      "Wall time: 4.54 s\n"
     ]
    }
   ],
   "source": [
    "%%time\n",
    "\n",
    "X = data_rnd_samp.drop('target', axis=1)\n",
    "y = data_rnd_samp.target\n",
    "\n",
    "# GrootCV\n",
    "feat_selector = arfsgroot.GrootCV(objective='rmse', cutoff=1, n_folds=5, n_iter=5, silent=True)\n",
    "feat_selector.fit(X, y, sample_weight=None)\n",
    "print(feat_selector.support_names_)\n",
    "fig = feat_selector.plot_importance(n_feat_per_inch=5)\n",
    "\n",
    "# highlight synthetic random variable\n",
    "fig = highlight_tick(figure=fig, str_match='random')\n",
    "fig = highlight_tick(figure=fig, str_match='genuine', color='green')\n",
    "plt.show()"
   ]
  },
  {
   "cell_type": "code",
   "execution_count": 32,
   "metadata": {},
   "outputs": [
    {
     "name": "stderr",
     "output_type": "stream",
     "text": [
      "Repeated k-fold: 100%|██████████| 25/25 [00:05<00:00,  4.19it/s]\n"
     ]
    },
    {
     "name": "stdout",
     "output_type": "stream",
     "text": [
      "0      AveOccup\n",
      "1     AveBedrms\n",
      "2    Population\n",
      "3      Latitude\n",
      "4      HouseAge\n",
      "5        MedInc\n",
      "Name: feature, dtype: object\n"
     ]
    },
    {
     "data": {
      "image/png": "[encoded data removed]",
      "text/plain": [
       "<Figure size 1152x86.4 with 1 Axes>"
      ]
     },
     "metadata": {},
     "output_type": "display_data"
    },
    {
     "name": "stdout",
     "output_type": "stream",
     "text": [
      "CPU times: total: 37.4 s\n",
      "Wall time: 6.25 s\n"
     ]
    }
   ],
   "source": [
    "%%time\n",
    "\n",
    "X = data_g_samp.drop('target', axis=1)\n",
    "y = data_g_samp.target\n",
    "\n",
    "# GrootCV\n",
    "feat_selector = arfsgroot.GrootCV(objective='rmse', cutoff=1, n_folds=5, n_iter=5, silent=True)\n",
    "feat_selector.fit(X, y, sample_weight=None)\n",
    "print(feat_selector.support_names_)\n",
    "fig = feat_selector.plot_importance(n_feat_per_inch=5)\n",
    "\n",
    "# highlight synthetic random variable\n",
    "fig = highlight_tick(figure=fig, str_match='random')\n",
    "fig = highlight_tick(figure=fig, str_match='genuine', color='green')\n",
    "plt.show()"
   ]
  },
  {
   "cell_type": "code",
   "execution_count": 33,
   "metadata": {},
   "outputs": [
    {
     "name": "stderr",
     "output_type": "stream",
     "text": [
      "Repeated k-fold: 100%|██████████| 25/25 [00:06<00:00,  3.84it/s]\n"
     ]
    },
    {
     "name": "stdout",
     "output_type": "stream",
     "text": [
      "0      AveOccup\n",
      "1     AveBedrms\n",
      "2    Population\n",
      "3      Latitude\n",
      "4      HouseAge\n",
      "5        MedInc\n",
      "Name: feature, dtype: object\n"
     ]
    },
    {
     "data": {
      "image/png": "[encoded data removed]",
      "text/plain": [
       "<Figure size 1152x86.4 with 1 Axes>"
      ]
     },
     "metadata": {},
     "output_type": "display_data"
    },
    {
     "name": "stdout",
     "output_type": "stream",
     "text": [
      "CPU times: total: 42.9 s\n",
      "Wall time: 6.78 s\n"
     ]
    }
   ],
   "source": [
    "%%time\n",
    "\n",
    "X = data_isof_samp.drop('target', axis=1)\n",
    "y = data_isof_samp.target\n",
    "\n",
    "# GrootCV\n",
    "feat_selector = arfsgroot.GrootCV(objective='rmse', cutoff=1, n_folds=5, n_iter=5, silent=True)\n",
    "feat_selector.fit(X, y, sample_weight=None)\n",
    "print(feat_selector.support_names_)\n",
    "fig = feat_selector.plot_importance(n_feat_per_inch=5)\n",
    "\n",
    "# highlight synthetic random variable\n",
    "fig = highlight_tick(figure=fig, str_match='random')\n",
    "fig = highlight_tick(figure=fig, str_match='genuine', color='green')\n",
    "plt.show()"
   ]
  }
 ],
 "metadata": {
  "interpreter": {
   "hash": "37f19ac8fc9d0bacdedf387112981bfef2889fc74b7d8fff6e32df35fe1a6231"
  },
  "kernelspec": {
   "display_name": "Python [conda env:arfs-env]",
   "language": "python",
   "name": "python3"
  },
  "language_info": {
   "codemirror_mode": {
    "name": "ipython",
    "version": 3
   },
   "file_extension": ".py",
   "mimetype": "text/x-python",
   "name": "python",
   "nbconvert_exporter": "python",
   "pygments_lexer": "ipython3",
   "version": "3.9.9"
  }
 },
 "nbformat": 4,
 "nbformat_minor": 4
}
