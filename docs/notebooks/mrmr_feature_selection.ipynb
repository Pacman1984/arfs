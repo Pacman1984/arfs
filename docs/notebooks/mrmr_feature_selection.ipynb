{
 "cells": [
  {
   "attachments": {},
   "cell_type": "markdown",
   "metadata": {},
   "source": [
    "# MRmR - regression and classification\n",
    "\n",
    "Maximal relevance minimal redundancy feature selection is, theoretically, a subset of the all relevant feature selection.\n",
    "\n"
   ]
  },
  {
   "cell_type": "code",
   "execution_count": 1,
   "metadata": {},
   "outputs": [],
   "source": [
    "# from IPython.core.display import display, HTML\n",
    "# display(HTML(\"<style>.container { width:95% !important; }</style>\"))\n",
    "import gc\n",
    "import arfs\n",
    "import pandas as pd\n",
    "import numpy as np\n",
    "import matplotlib.pyplot as plt\n",
    "\n",
    "from sys import getsizeof, path\n",
    "from arfs.utils import load_data\n",
    "from arfs.feature_selection import MinRedundancyMaxRelevance\n",
    "from arfs.preprocessing import TreeDiscretizer\n",
    "\n",
    "plt.style.use(\"fivethirtyeight\")\n",
    "rng = np.random.RandomState(seed=42)\n",
    "\n",
    "import warnings\n",
    "\n",
    "warnings.filterwarnings(\"ignore\")"
   ]
  },
  {
   "cell_type": "code",
   "execution_count": 2,
   "metadata": {},
   "outputs": [
    {
     "name": "stdout",
     "output_type": "stream",
     "text": [
      "Run with ARFS 1.0.0\n"
     ]
    }
   ],
   "source": [
    "print(f\"Run with ARFS {arfs.__version__}\")"
   ]
  },
  {
   "cell_type": "code",
   "execution_count": 3,
   "metadata": {},
   "outputs": [],
   "source": [
    "%matplotlib inline"
   ]
  },
  {
   "cell_type": "code",
   "execution_count": 4,
   "metadata": {},
   "outputs": [
    {
     "data": {
      "text/plain": [
       "4"
      ]
     },
     "execution_count": 4,
     "metadata": {},
     "output_type": "execute_result"
    }
   ],
   "source": [
    "gc.enable()\n",
    "gc.collect()"
   ]
  },
  {
   "attachments": {},
   "cell_type": "markdown",
   "metadata": {},
   "source": [
    "## Simple Usage\n",
    "In the following examples, I'll use a classical data set to which I added random predictors (numerical and categorical). A maximal relevance minimal redonduncy method should discard them.\n",
    "In the unit tests, you'll find examples using artifical data with genuine (correlated and non-linear) predictors and with some random/noise columns.\n",
    "\n",
    "## MRmr"
   ]
  },
  {
   "cell_type": "code",
   "execution_count": 5,
   "metadata": {},
   "outputs": [],
   "source": [
    "boston = load_data(name=\"Boston\")\n",
    "X, y = boston.data, boston.target\n",
    "y.name = \"target\""
   ]
  },
  {
   "cell_type": "code",
   "execution_count": 6,
   "metadata": {},
   "outputs": [
    {
     "data": {
      "text/plain": [
       "0    24.0\n",
       "1    21.6\n",
       "2    34.7\n",
       "3    33.4\n",
       "4    36.2\n",
       "Name: target, dtype: float64"
      ]
     },
     "execution_count": 6,
     "metadata": {},
     "output_type": "execute_result"
    }
   ],
   "source": [
    "y.head()"
   ]
  },
  {
   "cell_type": "code",
   "execution_count": 7,
   "metadata": {},
   "outputs": [
    {
     "data": {
      "text/plain": [
       "CRIM             float64\n",
       "ZN               float64\n",
       "INDUS            float64\n",
       "CHAS            category\n",
       "NOX              float64\n",
       "RM               float64\n",
       "AGE              float64\n",
       "DIS              float64\n",
       "RAD             category\n",
       "TAX              float64\n",
       "PTRATIO          float64\n",
       "B                float64\n",
       "LSTAT            float64\n",
       "random_num1      float64\n",
       "random_num2        int32\n",
       "random_cat      category\n",
       "random_cat_2    category\n",
       "genuine_num      float64\n",
       "dtype: object"
      ]
     },
     "execution_count": 7,
     "metadata": {},
     "output_type": "execute_result"
    }
   ],
   "source": [
    "X.dtypes"
   ]
  },
  {
   "cell_type": "code",
   "execution_count": 8,
   "metadata": {},
   "outputs": [
    {
     "data": {
      "text/html": [
       "<div>\n",
       "<style scoped>\n",
       "    .dataframe tbody tr th:only-of-type {\n",
       "        vertical-align: middle;\n",
       "    }\n",
       "\n",
       "    .dataframe tbody tr th {\n",
       "        vertical-align: top;\n",
       "    }\n",
       "\n",
       "    .dataframe thead th {\n",
       "        text-align: right;\n",
       "    }\n",
       "</style>\n",
       "<table border=\"1\" class=\"dataframe\">\n",
       "  <thead>\n",
       "    <tr style=\"text-align: right;\">\n",
       "      <th></th>\n",
       "      <th>CRIM</th>\n",
       "      <th>ZN</th>\n",
       "      <th>INDUS</th>\n",
       "      <th>CHAS</th>\n",
       "      <th>NOX</th>\n",
       "      <th>RM</th>\n",
       "      <th>AGE</th>\n",
       "      <th>DIS</th>\n",
       "      <th>RAD</th>\n",
       "      <th>TAX</th>\n",
       "      <th>PTRATIO</th>\n",
       "      <th>B</th>\n",
       "      <th>LSTAT</th>\n",
       "      <th>random_num1</th>\n",
       "      <th>random_num2</th>\n",
       "      <th>random_cat</th>\n",
       "      <th>random_cat_2</th>\n",
       "      <th>genuine_num</th>\n",
       "    </tr>\n",
       "  </thead>\n",
       "  <tbody>\n",
       "    <tr>\n",
       "      <th>0</th>\n",
       "      <td>0.00632</td>\n",
       "      <td>18.0</td>\n",
       "      <td>2.31</td>\n",
       "      <td>0.0</td>\n",
       "      <td>0.538</td>\n",
       "      <td>6.575</td>\n",
       "      <td>65.2</td>\n",
       "      <td>4.0900</td>\n",
       "      <td>1.0</td>\n",
       "      <td>296.0</td>\n",
       "      <td>15.3</td>\n",
       "      <td>396.90</td>\n",
       "      <td>4.98</td>\n",
       "      <td>0.496714</td>\n",
       "      <td>0</td>\n",
       "      <td>cat_3517</td>\n",
       "      <td>Lecter</td>\n",
       "      <td>6.501659</td>\n",
       "    </tr>\n",
       "    <tr>\n",
       "      <th>1</th>\n",
       "      <td>0.02731</td>\n",
       "      <td>0.0</td>\n",
       "      <td>7.07</td>\n",
       "      <td>0.0</td>\n",
       "      <td>0.469</td>\n",
       "      <td>6.421</td>\n",
       "      <td>78.9</td>\n",
       "      <td>4.9671</td>\n",
       "      <td>2.0</td>\n",
       "      <td>242.0</td>\n",
       "      <td>17.8</td>\n",
       "      <td>396.90</td>\n",
       "      <td>9.14</td>\n",
       "      <td>-0.138264</td>\n",
       "      <td>1</td>\n",
       "      <td>cat_2397</td>\n",
       "      <td>KeyserSoze</td>\n",
       "      <td>5.991676</td>\n",
       "    </tr>\n",
       "    <tr>\n",
       "      <th>2</th>\n",
       "      <td>0.02729</td>\n",
       "      <td>0.0</td>\n",
       "      <td>7.07</td>\n",
       "      <td>0.0</td>\n",
       "      <td>0.469</td>\n",
       "      <td>7.185</td>\n",
       "      <td>61.1</td>\n",
       "      <td>4.9671</td>\n",
       "      <td>2.0</td>\n",
       "      <td>242.0</td>\n",
       "      <td>17.8</td>\n",
       "      <td>392.83</td>\n",
       "      <td>4.03</td>\n",
       "      <td>0.647689</td>\n",
       "      <td>3</td>\n",
       "      <td>cat_3735</td>\n",
       "      <td>SAS</td>\n",
       "      <td>8.229976</td>\n",
       "    </tr>\n",
       "    <tr>\n",
       "      <th>3</th>\n",
       "      <td>0.03237</td>\n",
       "      <td>0.0</td>\n",
       "      <td>2.18</td>\n",
       "      <td>0.0</td>\n",
       "      <td>0.458</td>\n",
       "      <td>6.998</td>\n",
       "      <td>45.8</td>\n",
       "      <td>6.0622</td>\n",
       "      <td>3.0</td>\n",
       "      <td>222.0</td>\n",
       "      <td>18.7</td>\n",
       "      <td>394.63</td>\n",
       "      <td>2.94</td>\n",
       "      <td>1.523030</td>\n",
       "      <td>0</td>\n",
       "      <td>cat_2870</td>\n",
       "      <td>Morty</td>\n",
       "      <td>7.309680</td>\n",
       "    </tr>\n",
       "    <tr>\n",
       "      <th>4</th>\n",
       "      <td>0.06905</td>\n",
       "      <td>0.0</td>\n",
       "      <td>2.18</td>\n",
       "      <td>0.0</td>\n",
       "      <td>0.458</td>\n",
       "      <td>7.147</td>\n",
       "      <td>54.2</td>\n",
       "      <td>6.0622</td>\n",
       "      <td>3.0</td>\n",
       "      <td>222.0</td>\n",
       "      <td>18.7</td>\n",
       "      <td>396.90</td>\n",
       "      <td>5.33</td>\n",
       "      <td>-0.234153</td>\n",
       "      <td>0</td>\n",
       "      <td>cat_1160</td>\n",
       "      <td>Coldplay</td>\n",
       "      <td>8.027651</td>\n",
       "    </tr>\n",
       "  </tbody>\n",
       "</table>\n",
       "</div>"
      ],
      "text/plain": [
       "      CRIM    ZN  INDUS CHAS    NOX     RM   AGE     DIS  RAD    TAX  PTRATIO  \\\n",
       "0  0.00632  18.0   2.31  0.0  0.538  6.575  65.2  4.0900  1.0  296.0     15.3   \n",
       "1  0.02731   0.0   7.07  0.0  0.469  6.421  78.9  4.9671  2.0  242.0     17.8   \n",
       "2  0.02729   0.0   7.07  0.0  0.469  7.185  61.1  4.9671  2.0  242.0     17.8   \n",
       "3  0.03237   0.0   2.18  0.0  0.458  6.998  45.8  6.0622  3.0  222.0     18.7   \n",
       "4  0.06905   0.0   2.18  0.0  0.458  7.147  54.2  6.0622  3.0  222.0     18.7   \n",
       "\n",
       "        B  LSTAT  random_num1  random_num2 random_cat random_cat_2  \\\n",
       "0  396.90   4.98     0.496714            0   cat_3517       Lecter   \n",
       "1  396.90   9.14    -0.138264            1   cat_2397   KeyserSoze   \n",
       "2  392.83   4.03     0.647689            3   cat_3735          SAS   \n",
       "3  394.63   2.94     1.523030            0   cat_2870        Morty   \n",
       "4  396.90   5.33    -0.234153            0   cat_1160     Coldplay   \n",
       "\n",
       "   genuine_num  \n",
       "0     6.501659  \n",
       "1     5.991676  \n",
       "2     8.229976  \n",
       "3     7.309680  \n",
       "4     8.027651  "
      ]
     },
     "execution_count": 8,
     "metadata": {},
     "output_type": "execute_result"
    }
   ],
   "source": [
    "X.head()"
   ]
  },
  {
   "cell_type": "code",
   "execution_count": 9,
   "metadata": {},
   "outputs": [
    {
     "name": "stderr",
     "output_type": "stream",
     "text": [
      "100%|██████████| 5/5 [01:38<00:00, 19.68s/it]\n"
     ]
    }
   ],
   "source": [
    "fs_mrmr = MinRedundancyMaxRelevance(\n",
    "    n_features_to_select=5,\n",
    "    relevance_func=None,\n",
    "    redundancy_func=None,\n",
    "    task=\"regression\",  # \"classification\",\n",
    "    denominator_func=np.mean,\n",
    "    only_same_domain=False,\n",
    "    return_scores=False,\n",
    "    show_progress=True,\n",
    "    n_jobs=-1,\n",
    ")\n",
    "\n",
    "# fs_mrmr.fit(X=X, y=y.astype(str), sample_weight=None)\n",
    "fs_mrmr.fit(X=X, y=y, sample_weight=None)"
   ]
  },
  {
   "cell_type": "code",
   "execution_count": 10,
   "metadata": {},
   "outputs": [
    {
     "data": {
      "text/html": [
       "<div>\n",
       "<style scoped>\n",
       "    .dataframe tbody tr th:only-of-type {\n",
       "        vertical-align: middle;\n",
       "    }\n",
       "\n",
       "    .dataframe tbody tr th {\n",
       "        vertical-align: top;\n",
       "    }\n",
       "\n",
       "    .dataframe thead th {\n",
       "        text-align: right;\n",
       "    }\n",
       "</style>\n",
       "<table border=\"1\" class=\"dataframe\">\n",
       "  <thead>\n",
       "    <tr style=\"text-align: right;\">\n",
       "      <th></th>\n",
       "      <th>genuine_num</th>\n",
       "      <th>LSTAT</th>\n",
       "      <th>CHAS</th>\n",
       "      <th>RAD</th>\n",
       "      <th>RM</th>\n",
       "    </tr>\n",
       "  </thead>\n",
       "  <tbody>\n",
       "    <tr>\n",
       "      <th>0</th>\n",
       "      <td>6.501659</td>\n",
       "      <td>4.98</td>\n",
       "      <td>0.0</td>\n",
       "      <td>1.0</td>\n",
       "      <td>6.575</td>\n",
       "    </tr>\n",
       "    <tr>\n",
       "      <th>1</th>\n",
       "      <td>5.991676</td>\n",
       "      <td>9.14</td>\n",
       "      <td>0.0</td>\n",
       "      <td>2.0</td>\n",
       "      <td>6.421</td>\n",
       "    </tr>\n",
       "    <tr>\n",
       "      <th>2</th>\n",
       "      <td>8.229976</td>\n",
       "      <td>4.03</td>\n",
       "      <td>0.0</td>\n",
       "      <td>2.0</td>\n",
       "      <td>7.185</td>\n",
       "    </tr>\n",
       "    <tr>\n",
       "      <th>3</th>\n",
       "      <td>7.309680</td>\n",
       "      <td>2.94</td>\n",
       "      <td>0.0</td>\n",
       "      <td>3.0</td>\n",
       "      <td>6.998</td>\n",
       "    </tr>\n",
       "    <tr>\n",
       "      <th>4</th>\n",
       "      <td>8.027651</td>\n",
       "      <td>5.33</td>\n",
       "      <td>0.0</td>\n",
       "      <td>3.0</td>\n",
       "      <td>7.147</td>\n",
       "    </tr>\n",
       "  </tbody>\n",
       "</table>\n",
       "</div>"
      ],
      "text/plain": [
       "   genuine_num  LSTAT CHAS  RAD     RM\n",
       "0     6.501659   4.98  0.0  1.0  6.575\n",
       "1     5.991676   9.14  0.0  2.0  6.421\n",
       "2     8.229976   4.03  0.0  2.0  7.185\n",
       "3     7.309680   2.94  0.0  3.0  6.998\n",
       "4     8.027651   5.33  0.0  3.0  7.147"
      ]
     },
     "execution_count": 10,
     "metadata": {},
     "output_type": "execute_result"
    }
   ],
   "source": [
    "X_trans = fs_mrmr.transform(X)\n",
    "X_trans.head()"
   ]
  },
  {
   "cell_type": "code",
   "execution_count": 11,
   "metadata": {},
   "outputs": [
    {
     "data": {
      "text/plain": [
       "array(['CRIM', 'ZN', 'INDUS', 'CHAS', 'NOX', 'RM', 'AGE', 'DIS', 'RAD',\n",
       "       'TAX', 'PTRATIO', 'B', 'LSTAT', 'random_num1', 'random_num2',\n",
       "       'random_cat', 'random_cat_2', 'genuine_num'], dtype=object)"
      ]
     },
     "execution_count": 11,
     "metadata": {},
     "output_type": "execute_result"
    }
   ],
   "source": [
    "fs_mrmr.feature_names_in_"
   ]
  },
  {
   "cell_type": "code",
   "execution_count": 12,
   "metadata": {},
   "outputs": [
    {
     "data": {
      "text/plain": [
       "array([False, False, False,  True, False,  True, False, False,  True,\n",
       "       False, False, False,  True, False, False, False, False,  True])"
      ]
     },
     "execution_count": 12,
     "metadata": {},
     "output_type": "execute_result"
    }
   ],
   "source": [
    "fs_mrmr.support_"
   ]
  },
  {
   "cell_type": "code",
   "execution_count": 13,
   "metadata": {},
   "outputs": [
    {
     "data": {
      "text/plain": [
       "array(['CHAS', 'RM', 'RAD', 'LSTAT', 'genuine_num'], dtype=object)"
      ]
     },
     "execution_count": 13,
     "metadata": {},
     "output_type": "execute_result"
    }
   ],
   "source": [
    "fs_mrmr.get_feature_names_out()"
   ]
  },
  {
   "cell_type": "code",
   "execution_count": 14,
   "metadata": {},
   "outputs": [
    {
     "data": {
      "text/html": [
       "<div>\n",
       "<style scoped>\n",
       "    .dataframe tbody tr th:only-of-type {\n",
       "        vertical-align: middle;\n",
       "    }\n",
       "\n",
       "    .dataframe tbody tr th {\n",
       "        vertical-align: top;\n",
       "    }\n",
       "\n",
       "    .dataframe thead th {\n",
       "        text-align: right;\n",
       "    }\n",
       "</style>\n",
       "<table border=\"1\" class=\"dataframe\">\n",
       "  <thead>\n",
       "    <tr style=\"text-align: right;\">\n",
       "      <th></th>\n",
       "      <th>mrmr</th>\n",
       "      <th>relevance</th>\n",
       "      <th>redundancy</th>\n",
       "    </tr>\n",
       "  </thead>\n",
       "  <tbody>\n",
       "    <tr>\n",
       "      <th>genuine_num</th>\n",
       "      <td>inf</td>\n",
       "      <td>2.709076</td>\n",
       "      <td>0.000000</td>\n",
       "    </tr>\n",
       "    <tr>\n",
       "      <th>LSTAT</th>\n",
       "      <td>1411.820582</td>\n",
       "      <td>1.411821</td>\n",
       "      <td>0.001000</td>\n",
       "    </tr>\n",
       "    <tr>\n",
       "      <th>CHAS</th>\n",
       "      <td>732.822341</td>\n",
       "      <td>0.732822</td>\n",
       "      <td>0.001000</td>\n",
       "    </tr>\n",
       "    <tr>\n",
       "      <th>RAD</th>\n",
       "      <td>3.449563</td>\n",
       "      <td>0.989620</td>\n",
       "      <td>0.286883</td>\n",
       "    </tr>\n",
       "    <tr>\n",
       "      <th>RM</th>\n",
       "      <td>2.189394</td>\n",
       "      <td>0.942017</td>\n",
       "      <td>0.430264</td>\n",
       "    </tr>\n",
       "  </tbody>\n",
       "</table>\n",
       "</div>"
      ],
      "text/plain": [
       "                    mrmr  relevance  redundancy\n",
       "genuine_num          inf   2.709076    0.000000\n",
       "LSTAT        1411.820582   1.411821    0.001000\n",
       "CHAS          732.822341   0.732822    0.001000\n",
       "RAD             3.449563   0.989620    0.286883\n",
       "RM              2.189394   0.942017    0.430264"
      ]
     },
     "execution_count": 14,
     "metadata": {},
     "output_type": "execute_result"
    }
   ],
   "source": [
    "fs_mrmr.ranking_"
   ]
  },
  {
   "attachments": {},
   "cell_type": "markdown",
   "metadata": {},
   "source": [
    "## Classification "
   ]
  },
  {
   "cell_type": "code",
   "execution_count": 15,
   "metadata": {},
   "outputs": [],
   "source": [
    "titanic = load_data(name=\"Titanic\")\n",
    "X, y = titanic.data, titanic.target\n",
    "\n",
    "# y = y.astype('category')\n",
    "y.name = \"target\""
   ]
  },
  {
   "cell_type": "code",
   "execution_count": 16,
   "metadata": {},
   "outputs": [
    {
     "data": {
      "text/html": [
       "<div>\n",
       "<style scoped>\n",
       "    .dataframe tbody tr th:only-of-type {\n",
       "        vertical-align: middle;\n",
       "    }\n",
       "\n",
       "    .dataframe tbody tr th {\n",
       "        vertical-align: top;\n",
       "    }\n",
       "\n",
       "    .dataframe thead th {\n",
       "        text-align: right;\n",
       "    }\n",
       "</style>\n",
       "<table border=\"1\" class=\"dataframe\">\n",
       "  <thead>\n",
       "    <tr style=\"text-align: right;\">\n",
       "      <th></th>\n",
       "      <th>pclass</th>\n",
       "      <th>sex</th>\n",
       "      <th>embarked</th>\n",
       "      <th>random_cat</th>\n",
       "      <th>is_alone</th>\n",
       "      <th>title</th>\n",
       "      <th>age</th>\n",
       "      <th>family_size</th>\n",
       "      <th>fare</th>\n",
       "      <th>random_num</th>\n",
       "    </tr>\n",
       "  </thead>\n",
       "  <tbody>\n",
       "    <tr>\n",
       "      <th>0</th>\n",
       "      <td>1.0</td>\n",
       "      <td>female</td>\n",
       "      <td>S</td>\n",
       "      <td>Thanos</td>\n",
       "      <td>1</td>\n",
       "      <td>Mrs</td>\n",
       "      <td>29.0000</td>\n",
       "      <td>0.0</td>\n",
       "      <td>211.3375</td>\n",
       "      <td>0.496714</td>\n",
       "    </tr>\n",
       "    <tr>\n",
       "      <th>1</th>\n",
       "      <td>1.0</td>\n",
       "      <td>male</td>\n",
       "      <td>S</td>\n",
       "      <td>Cartman</td>\n",
       "      <td>0</td>\n",
       "      <td>Master</td>\n",
       "      <td>0.9167</td>\n",
       "      <td>3.0</td>\n",
       "      <td>151.5500</td>\n",
       "      <td>-0.138264</td>\n",
       "    </tr>\n",
       "    <tr>\n",
       "      <th>2</th>\n",
       "      <td>1.0</td>\n",
       "      <td>female</td>\n",
       "      <td>S</td>\n",
       "      <td>Rick</td>\n",
       "      <td>0</td>\n",
       "      <td>Mrs</td>\n",
       "      <td>2.0000</td>\n",
       "      <td>3.0</td>\n",
       "      <td>151.5500</td>\n",
       "      <td>0.647689</td>\n",
       "    </tr>\n",
       "    <tr>\n",
       "      <th>3</th>\n",
       "      <td>1.0</td>\n",
       "      <td>male</td>\n",
       "      <td>S</td>\n",
       "      <td>Vador</td>\n",
       "      <td>0</td>\n",
       "      <td>Mr</td>\n",
       "      <td>30.0000</td>\n",
       "      <td>3.0</td>\n",
       "      <td>151.5500</td>\n",
       "      <td>1.523030</td>\n",
       "    </tr>\n",
       "    <tr>\n",
       "      <th>4</th>\n",
       "      <td>1.0</td>\n",
       "      <td>female</td>\n",
       "      <td>S</td>\n",
       "      <td>Thanos</td>\n",
       "      <td>0</td>\n",
       "      <td>Mrs</td>\n",
       "      <td>25.0000</td>\n",
       "      <td>3.0</td>\n",
       "      <td>151.5500</td>\n",
       "      <td>-0.234153</td>\n",
       "    </tr>\n",
       "  </tbody>\n",
       "</table>\n",
       "</div>"
      ],
      "text/plain": [
       "  pclass     sex embarked random_cat is_alone   title      age  family_size  \\\n",
       "0    1.0  female        S     Thanos        1     Mrs  29.0000          0.0   \n",
       "1    1.0    male        S    Cartman        0  Master   0.9167          3.0   \n",
       "2    1.0  female        S       Rick        0     Mrs   2.0000          3.0   \n",
       "3    1.0    male        S      Vador        0      Mr  30.0000          3.0   \n",
       "4    1.0  female        S     Thanos        0     Mrs  25.0000          3.0   \n",
       "\n",
       "       fare  random_num  \n",
       "0  211.3375    0.496714  \n",
       "1  151.5500   -0.138264  \n",
       "2  151.5500    0.647689  \n",
       "3  151.5500    1.523030  \n",
       "4  151.5500   -0.234153  "
      ]
     },
     "execution_count": 16,
     "metadata": {},
     "output_type": "execute_result"
    }
   ],
   "source": [
    "X.head()"
   ]
  },
  {
   "cell_type": "code",
   "execution_count": 17,
   "metadata": {},
   "outputs": [
    {
     "data": {
      "text/plain": [
       "pclass          object\n",
       "sex             object\n",
       "embarked        object\n",
       "random_cat      object\n",
       "is_alone        object\n",
       "title           object\n",
       "age            float64\n",
       "family_size    float64\n",
       "fare           float64\n",
       "random_num     float64\n",
       "dtype: object"
      ]
     },
     "execution_count": 17,
     "metadata": {},
     "output_type": "execute_result"
    }
   ],
   "source": [
    "X.dtypes"
   ]
  },
  {
   "cell_type": "code",
   "execution_count": 18,
   "metadata": {},
   "outputs": [
    {
     "data": {
      "text/plain": [
       "0       1\n",
       "1       1\n",
       "2       0\n",
       "3       0\n",
       "4       0\n",
       "       ..\n",
       "1304    0\n",
       "1305    0\n",
       "1306    0\n",
       "1307    0\n",
       "1308    0\n",
       "Name: target, Length: 1309, dtype: category\n",
       "Categories (2, object): ['0', '1']"
      ]
     },
     "execution_count": 18,
     "metadata": {},
     "output_type": "execute_result"
    }
   ],
   "source": [
    "y"
   ]
  },
  {
   "cell_type": "code",
   "execution_count": 19,
   "metadata": {},
   "outputs": [
    {
     "name": "stderr",
     "output_type": "stream",
     "text": [
      "100%|██████████| 5/5 [00:56<00:00, 11.37s/it]\n"
     ]
    }
   ],
   "source": [
    "fs_mrmr = MinRedundancyMaxRelevance(\n",
    "    n_features_to_select=5,\n",
    "    relevance_func=None,\n",
    "    redundancy_func=None,\n",
    "    task=\"classification\",\n",
    "    denominator_func=np.mean,\n",
    "    only_same_domain=False,\n",
    "    return_scores=False,\n",
    "    show_progress=True,\n",
    "    n_jobs=-1,\n",
    ")\n",
    "\n",
    "# fs_mrmr.fit(X=X, y=y.astype(str), sample_weight=None)\n",
    "fs_mrmr.fit(X=X, y=y, sample_weight=None)"
   ]
  },
  {
   "cell_type": "code",
   "execution_count": 20,
   "metadata": {},
   "outputs": [
    {
     "data": {
      "text/plain": [
       "array(['pclass', 'sex', 'embarked', 'random_cat', 'is_alone', 'title',\n",
       "       'age', 'family_size', 'fare', 'random_num'], dtype=object)"
      ]
     },
     "execution_count": 20,
     "metadata": {},
     "output_type": "execute_result"
    }
   ],
   "source": [
    "fs_mrmr.feature_names_in_"
   ]
  },
  {
   "cell_type": "code",
   "execution_count": 21,
   "metadata": {},
   "outputs": [
    {
     "data": {
      "text/plain": [
       "array([False,  True, False, False, False,  True,  True,  True,  True,\n",
       "       False])"
      ]
     },
     "execution_count": 21,
     "metadata": {},
     "output_type": "execute_result"
    }
   ],
   "source": [
    "fs_mrmr.support_"
   ]
  },
  {
   "cell_type": "code",
   "execution_count": 22,
   "metadata": {},
   "outputs": [
    {
     "data": {
      "text/plain": [
       "array(['sex', 'title', 'age', 'family_size', 'fare'], dtype=object)"
      ]
     },
     "execution_count": 22,
     "metadata": {},
     "output_type": "execute_result"
    }
   ],
   "source": [
    "fs_mrmr.get_feature_names_out()"
   ]
  },
  {
   "cell_type": "code",
   "execution_count": 23,
   "metadata": {},
   "outputs": [
    {
     "data": {
      "text/html": [
       "<div>\n",
       "<style scoped>\n",
       "    .dataframe tbody tr th:only-of-type {\n",
       "        vertical-align: middle;\n",
       "    }\n",
       "\n",
       "    .dataframe tbody tr th {\n",
       "        vertical-align: top;\n",
       "    }\n",
       "\n",
       "    .dataframe thead th {\n",
       "        text-align: right;\n",
       "    }\n",
       "</style>\n",
       "<table border=\"1\" class=\"dataframe\">\n",
       "  <thead>\n",
       "    <tr style=\"text-align: right;\">\n",
       "      <th></th>\n",
       "      <th>mrmr</th>\n",
       "      <th>relevance</th>\n",
       "      <th>redundancy</th>\n",
       "    </tr>\n",
       "  </thead>\n",
       "  <tbody>\n",
       "    <tr>\n",
       "      <th>sex</th>\n",
       "      <td>inf</td>\n",
       "      <td>1.739017</td>\n",
       "      <td>0.000000</td>\n",
       "    </tr>\n",
       "    <tr>\n",
       "      <th>fare</th>\n",
       "      <td>1.532597</td>\n",
       "      <td>1.499352</td>\n",
       "      <td>0.978309</td>\n",
       "    </tr>\n",
       "    <tr>\n",
       "      <th>title</th>\n",
       "      <td>1.483065</td>\n",
       "      <td>0.695993</td>\n",
       "      <td>0.469294</td>\n",
       "    </tr>\n",
       "    <tr>\n",
       "      <th>family_size</th>\n",
       "      <td>-0.690212</td>\n",
       "      <td>-0.516471</td>\n",
       "      <td>0.748279</td>\n",
       "    </tr>\n",
       "    <tr>\n",
       "      <th>age</th>\n",
       "      <td>-1.553565</td>\n",
       "      <td>-0.458487</td>\n",
       "      <td>0.295119</td>\n",
       "    </tr>\n",
       "  </tbody>\n",
       "</table>\n",
       "</div>"
      ],
      "text/plain": [
       "                 mrmr  relevance  redundancy\n",
       "sex               inf   1.739017    0.000000\n",
       "fare         1.532597   1.499352    0.978309\n",
       "title        1.483065   0.695993    0.469294\n",
       "family_size -0.690212  -0.516471    0.748279\n",
       "age         -1.553565  -0.458487    0.295119"
      ]
     },
     "execution_count": 23,
     "metadata": {},
     "output_type": "execute_result"
    }
   ],
   "source": [
    "fs_mrmr.ranking_"
   ]
  },
  {
   "attachments": {},
   "cell_type": "markdown",
   "metadata": {},
   "source": [
    "## Pipeline\n",
    "\n",
    "Integration as a step of a feature selection pipeline"
   ]
  },
  {
   "cell_type": "code",
   "execution_count": 24,
   "metadata": {},
   "outputs": [
    {
     "name": "stderr",
     "output_type": "stream",
     "text": [
      "100%|██████████| 5/5 [00:58<00:00, 11.68s/it]\n"
     ]
    },
    {
     "data": {
      "text/html": [
       "<div>\n",
       "<style scoped>\n",
       "    .dataframe tbody tr th:only-of-type {\n",
       "        vertical-align: middle;\n",
       "    }\n",
       "\n",
       "    .dataframe tbody tr th {\n",
       "        vertical-align: top;\n",
       "    }\n",
       "\n",
       "    .dataframe thead th {\n",
       "        text-align: right;\n",
       "    }\n",
       "</style>\n",
       "<table border=\"1\" class=\"dataframe\">\n",
       "  <thead>\n",
       "    <tr style=\"text-align: right;\">\n",
       "      <th></th>\n",
       "      <th>sex</th>\n",
       "      <th>fare</th>\n",
       "      <th>title</th>\n",
       "      <th>family_size</th>\n",
       "      <th>age</th>\n",
       "    </tr>\n",
       "  </thead>\n",
       "  <tbody>\n",
       "    <tr>\n",
       "      <th>0</th>\n",
       "      <td>female</td>\n",
       "      <td>211.3375</td>\n",
       "      <td>Mrs</td>\n",
       "      <td>0.0</td>\n",
       "      <td>29.0000</td>\n",
       "    </tr>\n",
       "    <tr>\n",
       "      <th>1</th>\n",
       "      <td>male</td>\n",
       "      <td>151.5500</td>\n",
       "      <td>Master</td>\n",
       "      <td>3.0</td>\n",
       "      <td>0.9167</td>\n",
       "    </tr>\n",
       "    <tr>\n",
       "      <th>2</th>\n",
       "      <td>female</td>\n",
       "      <td>151.5500</td>\n",
       "      <td>Mrs</td>\n",
       "      <td>3.0</td>\n",
       "      <td>2.0000</td>\n",
       "    </tr>\n",
       "    <tr>\n",
       "      <th>3</th>\n",
       "      <td>male</td>\n",
       "      <td>151.5500</td>\n",
       "      <td>Mr</td>\n",
       "      <td>3.0</td>\n",
       "      <td>30.0000</td>\n",
       "    </tr>\n",
       "    <tr>\n",
       "      <th>4</th>\n",
       "      <td>female</td>\n",
       "      <td>151.5500</td>\n",
       "      <td>Mrs</td>\n",
       "      <td>3.0</td>\n",
       "      <td>25.0000</td>\n",
       "    </tr>\n",
       "  </tbody>\n",
       "</table>\n",
       "</div>"
      ],
      "text/plain": [
       "      sex      fare   title  family_size      age\n",
       "0  female  211.3375     Mrs          0.0  29.0000\n",
       "1    male  151.5500  Master          3.0   0.9167\n",
       "2  female  151.5500     Mrs          3.0   2.0000\n",
       "3    male  151.5500      Mr          3.0  30.0000\n",
       "4  female  151.5500     Mrs          3.0  25.0000"
      ]
     },
     "execution_count": 24,
     "metadata": {},
     "output_type": "execute_result"
    }
   ],
   "source": [
    "from sklearn.pipeline import Pipeline\n",
    "from arfs.feature_selection import (\n",
    "    MissingValueThreshold,\n",
    "    UniqueValuesThreshold,\n",
    "    make_fs_summary,\n",
    ")\n",
    "\n",
    "titanic = load_data(name=\"Titanic\")\n",
    "X, y = titanic.data, titanic.target\n",
    "\n",
    "# y = y.astype('category')\n",
    "y.name = \"target\"\n",
    "\n",
    "fs_mrmr = MinRedundancyMaxRelevance(\n",
    "    n_features_to_select=5,\n",
    "    relevance_func=None,\n",
    "    redundancy_func=None,\n",
    "    task=\"classification\",\n",
    "    denominator_func=np.mean,\n",
    "    only_same_domain=False,\n",
    "    return_scores=False,\n",
    "    show_progress=True,\n",
    "    n_jobs=-1,\n",
    ")\n",
    "\n",
    "mrmr_fs_pipeline = Pipeline(\n",
    "    [\n",
    "        (\"missing\", MissingValueThreshold(threshold=0.05)),\n",
    "        (\"unique\", UniqueValuesThreshold(threshold=1)),\n",
    "        (\"mrmr\", fs_mrmr),\n",
    "    ]\n",
    ")\n",
    "\n",
    "X_trans = mrmr_fs_pipeline.fit(X=X, y=y).transform(X=X)\n",
    "#   collinearity__sample_weight=w,\n",
    "#   lowimp__sample_weight=w)\n",
    "X_trans.head()"
   ]
  },
  {
   "cell_type": "code",
   "execution_count": 25,
   "metadata": {},
   "outputs": [
    {
     "data": {
      "text/html": [
       "<style type=\"text/css\">\n",
       "#T_6725b_row0_col1, #T_6725b_row0_col2, #T_6725b_row1_col1, #T_6725b_row1_col2, #T_6725b_row1_col3, #T_6725b_row2_col1, #T_6725b_row2_col2, #T_6725b_row3_col1, #T_6725b_row3_col2, #T_6725b_row4_col1, #T_6725b_row4_col2, #T_6725b_row5_col1, #T_6725b_row5_col2, #T_6725b_row5_col3, #T_6725b_row6_col1, #T_6725b_row6_col2, #T_6725b_row6_col3, #T_6725b_row7_col1, #T_6725b_row7_col2, #T_6725b_row7_col3, #T_6725b_row8_col1, #T_6725b_row8_col2, #T_6725b_row8_col3, #T_6725b_row9_col1, #T_6725b_row9_col2 {\n",
       "  background-color: #33a654;\n",
       "}\n",
       "#T_6725b_row0_col3, #T_6725b_row2_col3, #T_6725b_row3_col3, #T_6725b_row4_col3, #T_6725b_row9_col3 {\n",
       "  background-color: #d65f5f;\n",
       "}\n",
       "</style>\n",
       "<table id=\"T_6725b\">\n",
       "  <thead>\n",
       "    <tr>\n",
       "      <th class=\"blank level0\" >&nbsp;</th>\n",
       "      <th id=\"T_6725b_level0_col0\" class=\"col_heading level0 col0\" >predictor</th>\n",
       "      <th id=\"T_6725b_level0_col1\" class=\"col_heading level0 col1\" >missing</th>\n",
       "      <th id=\"T_6725b_level0_col2\" class=\"col_heading level0 col2\" >unique</th>\n",
       "      <th id=\"T_6725b_level0_col3\" class=\"col_heading level0 col3\" >mrmr</th>\n",
       "    </tr>\n",
       "  </thead>\n",
       "  <tbody>\n",
       "    <tr>\n",
       "      <th id=\"T_6725b_level0_row0\" class=\"row_heading level0 row0\" >0</th>\n",
       "      <td id=\"T_6725b_row0_col0\" class=\"data row0 col0\" >pclass</td>\n",
       "      <td id=\"T_6725b_row0_col1\" class=\"data row0 col1\" >1</td>\n",
       "      <td id=\"T_6725b_row0_col2\" class=\"data row0 col2\" >1</td>\n",
       "      <td id=\"T_6725b_row0_col3\" class=\"data row0 col3\" >0</td>\n",
       "    </tr>\n",
       "    <tr>\n",
       "      <th id=\"T_6725b_level0_row1\" class=\"row_heading level0 row1\" >1</th>\n",
       "      <td id=\"T_6725b_row1_col0\" class=\"data row1 col0\" >sex</td>\n",
       "      <td id=\"T_6725b_row1_col1\" class=\"data row1 col1\" >1</td>\n",
       "      <td id=\"T_6725b_row1_col2\" class=\"data row1 col2\" >1</td>\n",
       "      <td id=\"T_6725b_row1_col3\" class=\"data row1 col3\" >1</td>\n",
       "    </tr>\n",
       "    <tr>\n",
       "      <th id=\"T_6725b_level0_row2\" class=\"row_heading level0 row2\" >2</th>\n",
       "      <td id=\"T_6725b_row2_col0\" class=\"data row2 col0\" >embarked</td>\n",
       "      <td id=\"T_6725b_row2_col1\" class=\"data row2 col1\" >1</td>\n",
       "      <td id=\"T_6725b_row2_col2\" class=\"data row2 col2\" >1</td>\n",
       "      <td id=\"T_6725b_row2_col3\" class=\"data row2 col3\" >0</td>\n",
       "    </tr>\n",
       "    <tr>\n",
       "      <th id=\"T_6725b_level0_row3\" class=\"row_heading level0 row3\" >3</th>\n",
       "      <td id=\"T_6725b_row3_col0\" class=\"data row3 col0\" >random_cat</td>\n",
       "      <td id=\"T_6725b_row3_col1\" class=\"data row3 col1\" >1</td>\n",
       "      <td id=\"T_6725b_row3_col2\" class=\"data row3 col2\" >1</td>\n",
       "      <td id=\"T_6725b_row3_col3\" class=\"data row3 col3\" >0</td>\n",
       "    </tr>\n",
       "    <tr>\n",
       "      <th id=\"T_6725b_level0_row4\" class=\"row_heading level0 row4\" >4</th>\n",
       "      <td id=\"T_6725b_row4_col0\" class=\"data row4 col0\" >is_alone</td>\n",
       "      <td id=\"T_6725b_row4_col1\" class=\"data row4 col1\" >1</td>\n",
       "      <td id=\"T_6725b_row4_col2\" class=\"data row4 col2\" >1</td>\n",
       "      <td id=\"T_6725b_row4_col3\" class=\"data row4 col3\" >0</td>\n",
       "    </tr>\n",
       "    <tr>\n",
       "      <th id=\"T_6725b_level0_row5\" class=\"row_heading level0 row5\" >5</th>\n",
       "      <td id=\"T_6725b_row5_col0\" class=\"data row5 col0\" >title</td>\n",
       "      <td id=\"T_6725b_row5_col1\" class=\"data row5 col1\" >1</td>\n",
       "      <td id=\"T_6725b_row5_col2\" class=\"data row5 col2\" >1</td>\n",
       "      <td id=\"T_6725b_row5_col3\" class=\"data row5 col3\" >1</td>\n",
       "    </tr>\n",
       "    <tr>\n",
       "      <th id=\"T_6725b_level0_row6\" class=\"row_heading level0 row6\" >6</th>\n",
       "      <td id=\"T_6725b_row6_col0\" class=\"data row6 col0\" >age</td>\n",
       "      <td id=\"T_6725b_row6_col1\" class=\"data row6 col1\" >1</td>\n",
       "      <td id=\"T_6725b_row6_col2\" class=\"data row6 col2\" >1</td>\n",
       "      <td id=\"T_6725b_row6_col3\" class=\"data row6 col3\" >1</td>\n",
       "    </tr>\n",
       "    <tr>\n",
       "      <th id=\"T_6725b_level0_row7\" class=\"row_heading level0 row7\" >7</th>\n",
       "      <td id=\"T_6725b_row7_col0\" class=\"data row7 col0\" >family_size</td>\n",
       "      <td id=\"T_6725b_row7_col1\" class=\"data row7 col1\" >1</td>\n",
       "      <td id=\"T_6725b_row7_col2\" class=\"data row7 col2\" >1</td>\n",
       "      <td id=\"T_6725b_row7_col3\" class=\"data row7 col3\" >1</td>\n",
       "    </tr>\n",
       "    <tr>\n",
       "      <th id=\"T_6725b_level0_row8\" class=\"row_heading level0 row8\" >8</th>\n",
       "      <td id=\"T_6725b_row8_col0\" class=\"data row8 col0\" >fare</td>\n",
       "      <td id=\"T_6725b_row8_col1\" class=\"data row8 col1\" >1</td>\n",
       "      <td id=\"T_6725b_row8_col2\" class=\"data row8 col2\" >1</td>\n",
       "      <td id=\"T_6725b_row8_col3\" class=\"data row8 col3\" >1</td>\n",
       "    </tr>\n",
       "    <tr>\n",
       "      <th id=\"T_6725b_level0_row9\" class=\"row_heading level0 row9\" >9</th>\n",
       "      <td id=\"T_6725b_row9_col0\" class=\"data row9 col0\" >random_num</td>\n",
       "      <td id=\"T_6725b_row9_col1\" class=\"data row9 col1\" >1</td>\n",
       "      <td id=\"T_6725b_row9_col2\" class=\"data row9 col2\" >1</td>\n",
       "      <td id=\"T_6725b_row9_col3\" class=\"data row9 col3\" >0</td>\n",
       "    </tr>\n",
       "  </tbody>\n",
       "</table>\n"
      ],
      "text/plain": [
       "<pandas.io.formats.style.Styler at 0x14d510cdee0>"
      ]
     },
     "execution_count": 25,
     "metadata": {},
     "output_type": "execute_result"
    }
   ],
   "source": [
    "make_fs_summary(mrmr_fs_pipeline)"
   ]
  },
  {
   "cell_type": "code",
   "execution_count": 26,
   "metadata": {},
   "outputs": [
    {
     "data": {
      "text/plain": [
       "array(['sex', 'title', 'age', 'family_size', 'fare'], dtype=object)"
      ]
     },
     "execution_count": 26,
     "metadata": {},
     "output_type": "execute_result"
    }
   ],
   "source": [
    "mrmr_fs_pipeline.named_steps[\"mrmr\"].get_feature_names_out()"
   ]
  },
  {
   "attachments": {},
   "cell_type": "markdown",
   "metadata": {},
   "source": [
    "## Does discretization help?\n",
    "\n",
    "We can use `TreeDiscretizer` to discretize and auto-group the predictors (whatever if numeric or not). Does that improves the MRmr output?"
   ]
  },
  {
   "cell_type": "code",
   "execution_count": 27,
   "metadata": {},
   "outputs": [
    {
     "name": "stderr",
     "output_type": "stream",
     "text": [
      "100%|██████████| 5/5 [00:00<00:00,  8.88it/s]\n"
     ]
    },
    {
     "data": {
      "text/html": [
       "<div>\n",
       "<style scoped>\n",
       "    .dataframe tbody tr th:only-of-type {\n",
       "        vertical-align: middle;\n",
       "    }\n",
       "\n",
       "    .dataframe tbody tr th {\n",
       "        vertical-align: top;\n",
       "    }\n",
       "\n",
       "    .dataframe thead th {\n",
       "        text-align: right;\n",
       "    }\n",
       "</style>\n",
       "<table border=\"1\" class=\"dataframe\">\n",
       "  <thead>\n",
       "    <tr style=\"text-align: right;\">\n",
       "      <th></th>\n",
       "      <th>sex</th>\n",
       "      <th>title</th>\n",
       "      <th>is_alone</th>\n",
       "      <th>pclass</th>\n",
       "      <th>embarked</th>\n",
       "    </tr>\n",
       "  </thead>\n",
       "  <tbody>\n",
       "    <tr>\n",
       "      <th>0</th>\n",
       "      <td>female</td>\n",
       "      <td>Mrs</td>\n",
       "      <td>1</td>\n",
       "      <td>1.0</td>\n",
       "      <td>S / missing / Q</td>\n",
       "    </tr>\n",
       "    <tr>\n",
       "      <th>1</th>\n",
       "      <td>male</td>\n",
       "      <td>Master</td>\n",
       "      <td>0</td>\n",
       "      <td>1.0</td>\n",
       "      <td>S / missing / Q</td>\n",
       "    </tr>\n",
       "    <tr>\n",
       "      <th>2</th>\n",
       "      <td>female</td>\n",
       "      <td>Mrs</td>\n",
       "      <td>0</td>\n",
       "      <td>1.0</td>\n",
       "      <td>S / missing / Q</td>\n",
       "    </tr>\n",
       "    <tr>\n",
       "      <th>3</th>\n",
       "      <td>male</td>\n",
       "      <td>Mr</td>\n",
       "      <td>0</td>\n",
       "      <td>1.0</td>\n",
       "      <td>S / missing / Q</td>\n",
       "    </tr>\n",
       "    <tr>\n",
       "      <th>4</th>\n",
       "      <td>female</td>\n",
       "      <td>Mrs</td>\n",
       "      <td>0</td>\n",
       "      <td>1.0</td>\n",
       "      <td>S / missing / Q</td>\n",
       "    </tr>\n",
       "  </tbody>\n",
       "</table>\n",
       "</div>"
      ],
      "text/plain": [
       "      sex   title is_alone pclass         embarked\n",
       "0  female     Mrs        1    1.0  S / missing / Q\n",
       "1    male  Master        0    1.0  S / missing / Q\n",
       "2  female     Mrs        0    1.0  S / missing / Q\n",
       "3    male      Mr        0    1.0  S / missing / Q\n",
       "4  female     Mrs        0    1.0  S / missing / Q"
      ]
     },
     "execution_count": 27,
     "metadata": {},
     "output_type": "execute_result"
    }
   ],
   "source": [
    "# main parameter controlling how agressive will be the auto-grouping\n",
    "lgb_params = {\"min_split_gain\": 0.05}\n",
    "# instanciate the discretizer\n",
    "disc = TreeDiscretizer(bin_features=\"all\", n_bins=10, boost_params=lgb_params)\n",
    "\n",
    "titanic = load_data(name=\"Titanic\")\n",
    "X, y = titanic.data, titanic.target\n",
    "\n",
    "# y = y.astype('category')\n",
    "y.name = \"target\"\n",
    "y = y.astype(\"int\")\n",
    "\n",
    "fs_mrmr = MinRedundancyMaxRelevance(\n",
    "    n_features_to_select=5,\n",
    "    relevance_func=None,\n",
    "    redundancy_func=None,\n",
    "    task=\"classification\",\n",
    "    denominator_func=np.mean,\n",
    "    only_same_domain=False,\n",
    "    return_scores=False,\n",
    "    show_progress=True,\n",
    "    n_jobs=-1,\n",
    ")\n",
    "\n",
    "mrmr_fs_pipeline = Pipeline(\n",
    "    [\n",
    "        (\"missing\", MissingValueThreshold(threshold=0.05)),\n",
    "        (\"unique\", UniqueValuesThreshold(threshold=1)),\n",
    "        (\"discretizer\", disc),\n",
    "        (\"mrmr\", fs_mrmr),\n",
    "    ]\n",
    ")\n",
    "\n",
    "X_trans = mrmr_fs_pipeline.fit(X=X, y=y).transform(X=X)\n",
    "#   collinearity__sample_weight=w,\n",
    "#   lowimp__sample_weight=w)\n",
    "X_trans.head()"
   ]
  },
  {
   "cell_type": "code",
   "execution_count": 29,
   "metadata": {},
   "outputs": [
    {
     "data": {
      "text/html": [
       "<style type=\"text/css\">\n",
       "#T_25d2e_row0_col1, #T_25d2e_row0_col2, #T_25d2e_row0_col3, #T_25d2e_row1_col1, #T_25d2e_row1_col2, #T_25d2e_row1_col3, #T_25d2e_row2_col1, #T_25d2e_row2_col2, #T_25d2e_row2_col3, #T_25d2e_row3_col1, #T_25d2e_row3_col2, #T_25d2e_row4_col1, #T_25d2e_row4_col2, #T_25d2e_row4_col3, #T_25d2e_row5_col1, #T_25d2e_row5_col2, #T_25d2e_row5_col3, #T_25d2e_row6_col1, #T_25d2e_row6_col2, #T_25d2e_row7_col1, #T_25d2e_row7_col2, #T_25d2e_row8_col1, #T_25d2e_row8_col2, #T_25d2e_row9_col1, #T_25d2e_row9_col2 {\n",
       "  background-color: #33a654;\n",
       "}\n",
       "#T_25d2e_row3_col3, #T_25d2e_row6_col3, #T_25d2e_row7_col3, #T_25d2e_row8_col3, #T_25d2e_row9_col3 {\n",
       "  background-color: #d65f5f;\n",
       "}\n",
       "</style>\n",
       "<table id=\"T_25d2e\">\n",
       "  <thead>\n",
       "    <tr>\n",
       "      <th class=\"blank level0\" >&nbsp;</th>\n",
       "      <th id=\"T_25d2e_level0_col0\" class=\"col_heading level0 col0\" >predictor</th>\n",
       "      <th id=\"T_25d2e_level0_col1\" class=\"col_heading level0 col1\" >missing</th>\n",
       "      <th id=\"T_25d2e_level0_col2\" class=\"col_heading level0 col2\" >unique</th>\n",
       "      <th id=\"T_25d2e_level0_col3\" class=\"col_heading level0 col3\" >mrmr</th>\n",
       "    </tr>\n",
       "  </thead>\n",
       "  <tbody>\n",
       "    <tr>\n",
       "      <th id=\"T_25d2e_level0_row0\" class=\"row_heading level0 row0\" >0</th>\n",
       "      <td id=\"T_25d2e_row0_col0\" class=\"data row0 col0\" >pclass</td>\n",
       "      <td id=\"T_25d2e_row0_col1\" class=\"data row0 col1\" >1</td>\n",
       "      <td id=\"T_25d2e_row0_col2\" class=\"data row0 col2\" >1</td>\n",
       "      <td id=\"T_25d2e_row0_col3\" class=\"data row0 col3\" >1</td>\n",
       "    </tr>\n",
       "    <tr>\n",
       "      <th id=\"T_25d2e_level0_row1\" class=\"row_heading level0 row1\" >1</th>\n",
       "      <td id=\"T_25d2e_row1_col0\" class=\"data row1 col0\" >sex</td>\n",
       "      <td id=\"T_25d2e_row1_col1\" class=\"data row1 col1\" >1</td>\n",
       "      <td id=\"T_25d2e_row1_col2\" class=\"data row1 col2\" >1</td>\n",
       "      <td id=\"T_25d2e_row1_col3\" class=\"data row1 col3\" >1</td>\n",
       "    </tr>\n",
       "    <tr>\n",
       "      <th id=\"T_25d2e_level0_row2\" class=\"row_heading level0 row2\" >2</th>\n",
       "      <td id=\"T_25d2e_row2_col0\" class=\"data row2 col0\" >embarked</td>\n",
       "      <td id=\"T_25d2e_row2_col1\" class=\"data row2 col1\" >1</td>\n",
       "      <td id=\"T_25d2e_row2_col2\" class=\"data row2 col2\" >1</td>\n",
       "      <td id=\"T_25d2e_row2_col3\" class=\"data row2 col3\" >1</td>\n",
       "    </tr>\n",
       "    <tr>\n",
       "      <th id=\"T_25d2e_level0_row3\" class=\"row_heading level0 row3\" >3</th>\n",
       "      <td id=\"T_25d2e_row3_col0\" class=\"data row3 col0\" >random_cat</td>\n",
       "      <td id=\"T_25d2e_row3_col1\" class=\"data row3 col1\" >1</td>\n",
       "      <td id=\"T_25d2e_row3_col2\" class=\"data row3 col2\" >1</td>\n",
       "      <td id=\"T_25d2e_row3_col3\" class=\"data row3 col3\" >0</td>\n",
       "    </tr>\n",
       "    <tr>\n",
       "      <th id=\"T_25d2e_level0_row4\" class=\"row_heading level0 row4\" >4</th>\n",
       "      <td id=\"T_25d2e_row4_col0\" class=\"data row4 col0\" >is_alone</td>\n",
       "      <td id=\"T_25d2e_row4_col1\" class=\"data row4 col1\" >1</td>\n",
       "      <td id=\"T_25d2e_row4_col2\" class=\"data row4 col2\" >1</td>\n",
       "      <td id=\"T_25d2e_row4_col3\" class=\"data row4 col3\" >1</td>\n",
       "    </tr>\n",
       "    <tr>\n",
       "      <th id=\"T_25d2e_level0_row5\" class=\"row_heading level0 row5\" >5</th>\n",
       "      <td id=\"T_25d2e_row5_col0\" class=\"data row5 col0\" >title</td>\n",
       "      <td id=\"T_25d2e_row5_col1\" class=\"data row5 col1\" >1</td>\n",
       "      <td id=\"T_25d2e_row5_col2\" class=\"data row5 col2\" >1</td>\n",
       "      <td id=\"T_25d2e_row5_col3\" class=\"data row5 col3\" >1</td>\n",
       "    </tr>\n",
       "    <tr>\n",
       "      <th id=\"T_25d2e_level0_row6\" class=\"row_heading level0 row6\" >6</th>\n",
       "      <td id=\"T_25d2e_row6_col0\" class=\"data row6 col0\" >age</td>\n",
       "      <td id=\"T_25d2e_row6_col1\" class=\"data row6 col1\" >1</td>\n",
       "      <td id=\"T_25d2e_row6_col2\" class=\"data row6 col2\" >1</td>\n",
       "      <td id=\"T_25d2e_row6_col3\" class=\"data row6 col3\" >0</td>\n",
       "    </tr>\n",
       "    <tr>\n",
       "      <th id=\"T_25d2e_level0_row7\" class=\"row_heading level0 row7\" >7</th>\n",
       "      <td id=\"T_25d2e_row7_col0\" class=\"data row7 col0\" >family_size</td>\n",
       "      <td id=\"T_25d2e_row7_col1\" class=\"data row7 col1\" >1</td>\n",
       "      <td id=\"T_25d2e_row7_col2\" class=\"data row7 col2\" >1</td>\n",
       "      <td id=\"T_25d2e_row7_col3\" class=\"data row7 col3\" >0</td>\n",
       "    </tr>\n",
       "    <tr>\n",
       "      <th id=\"T_25d2e_level0_row8\" class=\"row_heading level0 row8\" >8</th>\n",
       "      <td id=\"T_25d2e_row8_col0\" class=\"data row8 col0\" >fare</td>\n",
       "      <td id=\"T_25d2e_row8_col1\" class=\"data row8 col1\" >1</td>\n",
       "      <td id=\"T_25d2e_row8_col2\" class=\"data row8 col2\" >1</td>\n",
       "      <td id=\"T_25d2e_row8_col3\" class=\"data row8 col3\" >0</td>\n",
       "    </tr>\n",
       "    <tr>\n",
       "      <th id=\"T_25d2e_level0_row9\" class=\"row_heading level0 row9\" >9</th>\n",
       "      <td id=\"T_25d2e_row9_col0\" class=\"data row9 col0\" >random_num</td>\n",
       "      <td id=\"T_25d2e_row9_col1\" class=\"data row9 col1\" >1</td>\n",
       "      <td id=\"T_25d2e_row9_col2\" class=\"data row9 col2\" >1</td>\n",
       "      <td id=\"T_25d2e_row9_col3\" class=\"data row9 col3\" >0</td>\n",
       "    </tr>\n",
       "  </tbody>\n",
       "</table>\n"
      ],
      "text/plain": [
       "<pandas.io.formats.style.Styler at 0x14d79c70fd0>"
      ]
     },
     "execution_count": 29,
     "metadata": {},
     "output_type": "execute_result"
    }
   ],
   "source": [
    "make_fs_summary(mrmr_fs_pipeline)"
   ]
  }
 ],
 "metadata": {
  "kernelspec": {
   "display_name": "arfs-env",
   "language": "python",
   "name": "python3"
  },
  "language_info": {
   "codemirror_mode": {
    "name": "ipython",
    "version": 3
   },
   "file_extension": ".py",
   "mimetype": "text/x-python",
   "name": "python",
   "nbconvert_exporter": "python",
   "pygments_lexer": "ipython3",
   "version": "3.9.15 | packaged by conda-forge | (main, Nov 22 2022, 08:39:05) [MSC v.1929 64 bit (AMD64)]"
  },
  "vscode": {
   "interpreter": {
    "hash": "dc5365a4b2ce0cb283277bcba6a2c75541e4b930f1478f6e09f493039ef1ca26"
   }
  }
 },
 "nbformat": 4,
 "nbformat_minor": 4
}
