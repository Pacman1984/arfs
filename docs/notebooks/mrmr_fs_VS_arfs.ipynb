{
 "cells": [
  {
   "attachments": {},
   "cell_type": "markdown",
   "metadata": {},
   "source": [
    "# ARFS vs MRmr\n",
    "\n",
    "Maximal relevance minimal redundancy feature selection is, theoretically, a subset of all relevant feature selection. However, contrary to the provided ARFS method, there is no criterion for the number of features to select. This is a hyper-parameter, found by HPO or set by the User. \n",
    "On the other hand, ARFS methods are negatively impacted in presence of collinearity while those collinear features are penalized in the MRmr (redundancy part).\n"
   ]
  },
  {
   "cell_type": "code",
   "execution_count": 1,
   "metadata": {},
   "outputs": [],
   "source": [
    "# from IPython.core.display import display, HTML\n",
    "# display(HTML(\"<style>.container { width:95% !important; }</style>\"))\n",
    "import gc\n",
    "import arfs\n",
    "import pandas as pd\n",
    "import numpy as np\n",
    "import matplotlib.pyplot as plt\n",
    "\n",
    "from sys import getsizeof, path\n",
    "from sklearn.pipeline import Pipeline\n",
    "from arfs.utils import load_data\n",
    "from arfs.feature_selection import (\n",
    "    MinRedundancyMaxRelevance,\n",
    "    GrootCV,\n",
    "    MissingValueThreshold,\n",
    "    UniqueValuesThreshold,\n",
    "    CollinearityThreshold,\n",
    "    make_fs_summary,\n",
    ")\n",
    "from arfs.benchmark import highlight_tick\n",
    "\n",
    "# plt.style.use('fivethirtyeight')\n",
    "rng = np.random.RandomState(seed=42)\n",
    "\n",
    "import warnings\n",
    "\n",
    "warnings.filterwarnings(\"ignore\")"
   ]
  },
  {
   "cell_type": "code",
   "execution_count": 2,
   "metadata": {},
   "outputs": [
    {
     "name": "stdout",
     "output_type": "stream",
     "text": [
      "Run with ARFS 1.0.0\n"
     ]
    }
   ],
   "source": [
    "print(f\"Run with ARFS {arfs.__version__}\")"
   ]
  },
  {
   "cell_type": "code",
   "execution_count": 3,
   "metadata": {},
   "outputs": [],
   "source": [
    "%matplotlib inline"
   ]
  },
  {
   "cell_type": "code",
   "execution_count": 4,
   "metadata": {},
   "outputs": [
    {
     "data": {
      "text/plain": [
       "4"
      ]
     },
     "execution_count": 4,
     "metadata": {},
     "output_type": "execute_result"
    }
   ],
   "source": [
    "gc.enable()\n",
    "gc.collect()"
   ]
  },
  {
   "attachments": {},
   "cell_type": "markdown",
   "metadata": {},
   "source": [
    "## MRmr\n",
    "\n",
    "convenient, handles collinearity but does not automatically detect the number of features to select (let as a hyper-param)."
   ]
  },
  {
   "cell_type": "code",
   "execution_count": 5,
   "metadata": {},
   "outputs": [],
   "source": [
    "boston = load_data(name=\"Boston\")\n",
    "X, y = boston.data, boston.target\n",
    "y.name = \"target\""
   ]
  },
  {
   "cell_type": "code",
   "execution_count": 6,
   "metadata": {},
   "outputs": [
    {
     "data": {
      "text/plain": [
       "0    24.0\n",
       "1    21.6\n",
       "2    34.7\n",
       "3    33.4\n",
       "4    36.2\n",
       "Name: target, dtype: float64"
      ]
     },
     "execution_count": 6,
     "metadata": {},
     "output_type": "execute_result"
    }
   ],
   "source": [
    "y.head()"
   ]
  },
  {
   "cell_type": "code",
   "execution_count": 7,
   "metadata": {},
   "outputs": [
    {
     "data": {
      "text/plain": [
       "CRIM             float64\n",
       "ZN               float64\n",
       "INDUS            float64\n",
       "CHAS            category\n",
       "NOX              float64\n",
       "RM               float64\n",
       "AGE              float64\n",
       "DIS              float64\n",
       "RAD             category\n",
       "TAX              float64\n",
       "PTRATIO          float64\n",
       "B                float64\n",
       "LSTAT            float64\n",
       "random_num1      float64\n",
       "random_num2        int32\n",
       "random_cat      category\n",
       "random_cat_2    category\n",
       "genuine_num      float64\n",
       "dtype: object"
      ]
     },
     "execution_count": 7,
     "metadata": {},
     "output_type": "execute_result"
    }
   ],
   "source": [
    "X.dtypes"
   ]
  },
  {
   "cell_type": "code",
   "execution_count": 8,
   "metadata": {},
   "outputs": [
    {
     "data": {
      "text/html": [
       "<div>\n",
       "<style scoped>\n",
       "    .dataframe tbody tr th:only-of-type {\n",
       "        vertical-align: middle;\n",
       "    }\n",
       "\n",
       "    .dataframe tbody tr th {\n",
       "        vertical-align: top;\n",
       "    }\n",
       "\n",
       "    .dataframe thead th {\n",
       "        text-align: right;\n",
       "    }\n",
       "</style>\n",
       "<table border=\"1\" class=\"dataframe\">\n",
       "  <thead>\n",
       "    <tr style=\"text-align: right;\">\n",
       "      <th></th>\n",
       "      <th>CRIM</th>\n",
       "      <th>ZN</th>\n",
       "      <th>INDUS</th>\n",
       "      <th>CHAS</th>\n",
       "      <th>NOX</th>\n",
       "      <th>RM</th>\n",
       "      <th>AGE</th>\n",
       "      <th>DIS</th>\n",
       "      <th>RAD</th>\n",
       "      <th>TAX</th>\n",
       "      <th>PTRATIO</th>\n",
       "      <th>B</th>\n",
       "      <th>LSTAT</th>\n",
       "      <th>random_num1</th>\n",
       "      <th>random_num2</th>\n",
       "      <th>random_cat</th>\n",
       "      <th>random_cat_2</th>\n",
       "      <th>genuine_num</th>\n",
       "    </tr>\n",
       "  </thead>\n",
       "  <tbody>\n",
       "    <tr>\n",
       "      <th>0</th>\n",
       "      <td>0.00632</td>\n",
       "      <td>18.0</td>\n",
       "      <td>2.31</td>\n",
       "      <td>0.0</td>\n",
       "      <td>0.538</td>\n",
       "      <td>6.575</td>\n",
       "      <td>65.2</td>\n",
       "      <td>4.0900</td>\n",
       "      <td>1.0</td>\n",
       "      <td>296.0</td>\n",
       "      <td>15.3</td>\n",
       "      <td>396.90</td>\n",
       "      <td>4.98</td>\n",
       "      <td>0.496714</td>\n",
       "      <td>0</td>\n",
       "      <td>cat_3517</td>\n",
       "      <td>Lecter</td>\n",
       "      <td>6.501659</td>\n",
       "    </tr>\n",
       "    <tr>\n",
       "      <th>1</th>\n",
       "      <td>0.02731</td>\n",
       "      <td>0.0</td>\n",
       "      <td>7.07</td>\n",
       "      <td>0.0</td>\n",
       "      <td>0.469</td>\n",
       "      <td>6.421</td>\n",
       "      <td>78.9</td>\n",
       "      <td>4.9671</td>\n",
       "      <td>2.0</td>\n",
       "      <td>242.0</td>\n",
       "      <td>17.8</td>\n",
       "      <td>396.90</td>\n",
       "      <td>9.14</td>\n",
       "      <td>-0.138264</td>\n",
       "      <td>1</td>\n",
       "      <td>cat_2397</td>\n",
       "      <td>KeyserSoze</td>\n",
       "      <td>5.991676</td>\n",
       "    </tr>\n",
       "    <tr>\n",
       "      <th>2</th>\n",
       "      <td>0.02729</td>\n",
       "      <td>0.0</td>\n",
       "      <td>7.07</td>\n",
       "      <td>0.0</td>\n",
       "      <td>0.469</td>\n",
       "      <td>7.185</td>\n",
       "      <td>61.1</td>\n",
       "      <td>4.9671</td>\n",
       "      <td>2.0</td>\n",
       "      <td>242.0</td>\n",
       "      <td>17.8</td>\n",
       "      <td>392.83</td>\n",
       "      <td>4.03</td>\n",
       "      <td>0.647689</td>\n",
       "      <td>3</td>\n",
       "      <td>cat_3735</td>\n",
       "      <td>SAS</td>\n",
       "      <td>8.229976</td>\n",
       "    </tr>\n",
       "    <tr>\n",
       "      <th>3</th>\n",
       "      <td>0.03237</td>\n",
       "      <td>0.0</td>\n",
       "      <td>2.18</td>\n",
       "      <td>0.0</td>\n",
       "      <td>0.458</td>\n",
       "      <td>6.998</td>\n",
       "      <td>45.8</td>\n",
       "      <td>6.0622</td>\n",
       "      <td>3.0</td>\n",
       "      <td>222.0</td>\n",
       "      <td>18.7</td>\n",
       "      <td>394.63</td>\n",
       "      <td>2.94</td>\n",
       "      <td>1.523030</td>\n",
       "      <td>0</td>\n",
       "      <td>cat_2870</td>\n",
       "      <td>Morty</td>\n",
       "      <td>7.309680</td>\n",
       "    </tr>\n",
       "    <tr>\n",
       "      <th>4</th>\n",
       "      <td>0.06905</td>\n",
       "      <td>0.0</td>\n",
       "      <td>2.18</td>\n",
       "      <td>0.0</td>\n",
       "      <td>0.458</td>\n",
       "      <td>7.147</td>\n",
       "      <td>54.2</td>\n",
       "      <td>6.0622</td>\n",
       "      <td>3.0</td>\n",
       "      <td>222.0</td>\n",
       "      <td>18.7</td>\n",
       "      <td>396.90</td>\n",
       "      <td>5.33</td>\n",
       "      <td>-0.234153</td>\n",
       "      <td>0</td>\n",
       "      <td>cat_1160</td>\n",
       "      <td>Coldplay</td>\n",
       "      <td>8.027651</td>\n",
       "    </tr>\n",
       "  </tbody>\n",
       "</table>\n",
       "</div>"
      ],
      "text/plain": [
       "      CRIM    ZN  INDUS CHAS    NOX     RM   AGE     DIS  RAD    TAX  PTRATIO  \\\n",
       "0  0.00632  18.0   2.31  0.0  0.538  6.575  65.2  4.0900  1.0  296.0     15.3   \n",
       "1  0.02731   0.0   7.07  0.0  0.469  6.421  78.9  4.9671  2.0  242.0     17.8   \n",
       "2  0.02729   0.0   7.07  0.0  0.469  7.185  61.1  4.9671  2.0  242.0     17.8   \n",
       "3  0.03237   0.0   2.18  0.0  0.458  6.998  45.8  6.0622  3.0  222.0     18.7   \n",
       "4  0.06905   0.0   2.18  0.0  0.458  7.147  54.2  6.0622  3.0  222.0     18.7   \n",
       "\n",
       "        B  LSTAT  random_num1  random_num2 random_cat random_cat_2  \\\n",
       "0  396.90   4.98     0.496714            0   cat_3517       Lecter   \n",
       "1  396.90   9.14    -0.138264            1   cat_2397   KeyserSoze   \n",
       "2  392.83   4.03     0.647689            3   cat_3735          SAS   \n",
       "3  394.63   2.94     1.523030            0   cat_2870        Morty   \n",
       "4  396.90   5.33    -0.234153            0   cat_1160     Coldplay   \n",
       "\n",
       "   genuine_num  \n",
       "0     6.501659  \n",
       "1     5.991676  \n",
       "2     8.229976  \n",
       "3     7.309680  \n",
       "4     8.027651  "
      ]
     },
     "execution_count": 8,
     "metadata": {},
     "output_type": "execute_result"
    }
   ],
   "source": [
    "X.head()"
   ]
  },
  {
   "cell_type": "code",
   "execution_count": 9,
   "metadata": {},
   "outputs": [
    {
     "name": "stderr",
     "output_type": "stream",
     "text": [
      "100%|██████████| 10/10 [04:16<00:00, 25.68s/it]\n"
     ]
    }
   ],
   "source": [
    "# the number of features is a hyper-param\n",
    "\n",
    "fs_mrmr = MinRedundancyMaxRelevance(\n",
    "    n_features_to_select=10,\n",
    "    relevance_func=None,\n",
    "    redundancy_func=None,\n",
    "    task=\"regression\",  # \"classification\",\n",
    "    denominator_func=np.mean,\n",
    "    only_same_domain=False,\n",
    "    return_scores=False,\n",
    "    show_progress=True,\n",
    "    n_jobs=-1,\n",
    ")\n",
    "\n",
    "# fs_mrmr.fit(X=X, y=y.astype(str), sample_weight=None)\n",
    "fs_mrmr.fit(X=X, y=y, sample_weight=None)"
   ]
  },
  {
   "cell_type": "code",
   "execution_count": 10,
   "metadata": {},
   "outputs": [
    {
     "data": {
      "text/html": [
       "<div>\n",
       "<style scoped>\n",
       "    .dataframe tbody tr th:only-of-type {\n",
       "        vertical-align: middle;\n",
       "    }\n",
       "\n",
       "    .dataframe tbody tr th {\n",
       "        vertical-align: top;\n",
       "    }\n",
       "\n",
       "    .dataframe thead th {\n",
       "        text-align: right;\n",
       "    }\n",
       "</style>\n",
       "<table border=\"1\" class=\"dataframe\">\n",
       "  <thead>\n",
       "    <tr style=\"text-align: right;\">\n",
       "      <th></th>\n",
       "      <th>genuine_num</th>\n",
       "      <th>LSTAT</th>\n",
       "      <th>CHAS</th>\n",
       "      <th>RAD</th>\n",
       "      <th>RM</th>\n",
       "      <th>PTRATIO</th>\n",
       "      <th>INDUS</th>\n",
       "      <th>TAX</th>\n",
       "      <th>NOX</th>\n",
       "      <th>AGE</th>\n",
       "    </tr>\n",
       "  </thead>\n",
       "  <tbody>\n",
       "    <tr>\n",
       "      <th>0</th>\n",
       "      <td>6.501659</td>\n",
       "      <td>4.98</td>\n",
       "      <td>0.0</td>\n",
       "      <td>1.0</td>\n",
       "      <td>6.575</td>\n",
       "      <td>15.3</td>\n",
       "      <td>2.31</td>\n",
       "      <td>296.0</td>\n",
       "      <td>0.538</td>\n",
       "      <td>65.2</td>\n",
       "    </tr>\n",
       "    <tr>\n",
       "      <th>1</th>\n",
       "      <td>5.991676</td>\n",
       "      <td>9.14</td>\n",
       "      <td>0.0</td>\n",
       "      <td>2.0</td>\n",
       "      <td>6.421</td>\n",
       "      <td>17.8</td>\n",
       "      <td>7.07</td>\n",
       "      <td>242.0</td>\n",
       "      <td>0.469</td>\n",
       "      <td>78.9</td>\n",
       "    </tr>\n",
       "    <tr>\n",
       "      <th>2</th>\n",
       "      <td>8.229976</td>\n",
       "      <td>4.03</td>\n",
       "      <td>0.0</td>\n",
       "      <td>2.0</td>\n",
       "      <td>7.185</td>\n",
       "      <td>17.8</td>\n",
       "      <td>7.07</td>\n",
       "      <td>242.0</td>\n",
       "      <td>0.469</td>\n",
       "      <td>61.1</td>\n",
       "    </tr>\n",
       "    <tr>\n",
       "      <th>3</th>\n",
       "      <td>7.309680</td>\n",
       "      <td>2.94</td>\n",
       "      <td>0.0</td>\n",
       "      <td>3.0</td>\n",
       "      <td>6.998</td>\n",
       "      <td>18.7</td>\n",
       "      <td>2.18</td>\n",
       "      <td>222.0</td>\n",
       "      <td>0.458</td>\n",
       "      <td>45.8</td>\n",
       "    </tr>\n",
       "    <tr>\n",
       "      <th>4</th>\n",
       "      <td>8.027651</td>\n",
       "      <td>5.33</td>\n",
       "      <td>0.0</td>\n",
       "      <td>3.0</td>\n",
       "      <td>7.147</td>\n",
       "      <td>18.7</td>\n",
       "      <td>2.18</td>\n",
       "      <td>222.0</td>\n",
       "      <td>0.458</td>\n",
       "      <td>54.2</td>\n",
       "    </tr>\n",
       "  </tbody>\n",
       "</table>\n",
       "</div>"
      ],
      "text/plain": [
       "   genuine_num  LSTAT CHAS  RAD     RM  PTRATIO  INDUS    TAX    NOX   AGE\n",
       "0     6.501659   4.98  0.0  1.0  6.575     15.3   2.31  296.0  0.538  65.2\n",
       "1     5.991676   9.14  0.0  2.0  6.421     17.8   7.07  242.0  0.469  78.9\n",
       "2     8.229976   4.03  0.0  2.0  7.185     17.8   7.07  242.0  0.469  61.1\n",
       "3     7.309680   2.94  0.0  3.0  6.998     18.7   2.18  222.0  0.458  45.8\n",
       "4     8.027651   5.33  0.0  3.0  7.147     18.7   2.18  222.0  0.458  54.2"
      ]
     },
     "execution_count": 10,
     "metadata": {},
     "output_type": "execute_result"
    }
   ],
   "source": [
    "X_trans = fs_mrmr.transform(X)\n",
    "X_trans.head()"
   ]
  },
  {
   "cell_type": "code",
   "execution_count": 11,
   "metadata": {},
   "outputs": [
    {
     "data": {
      "text/plain": [
       "array(['CRIM', 'ZN', 'INDUS', 'CHAS', 'NOX', 'RM', 'AGE', 'DIS', 'RAD',\n",
       "       'TAX', 'PTRATIO', 'B', 'LSTAT', 'random_num1', 'random_num2',\n",
       "       'random_cat', 'random_cat_2', 'genuine_num'], dtype=object)"
      ]
     },
     "execution_count": 11,
     "metadata": {},
     "output_type": "execute_result"
    }
   ],
   "source": [
    "fs_mrmr.feature_names_in_"
   ]
  },
  {
   "cell_type": "code",
   "execution_count": 12,
   "metadata": {},
   "outputs": [
    {
     "data": {
      "text/plain": [
       "array([False, False,  True,  True,  True,  True,  True, False,  True,\n",
       "        True,  True, False,  True, False, False, False, False,  True])"
      ]
     },
     "execution_count": 12,
     "metadata": {},
     "output_type": "execute_result"
    }
   ],
   "source": [
    "fs_mrmr.support_"
   ]
  },
  {
   "cell_type": "code",
   "execution_count": 13,
   "metadata": {},
   "outputs": [
    {
     "data": {
      "text/plain": [
       "array(['INDUS', 'CHAS', 'NOX', 'RM', 'AGE', 'RAD', 'TAX', 'PTRATIO',\n",
       "       'LSTAT', 'genuine_num'], dtype=object)"
      ]
     },
     "execution_count": 13,
     "metadata": {},
     "output_type": "execute_result"
    }
   ],
   "source": [
    "fs_mrmr.get_feature_names_out()"
   ]
  },
  {
   "cell_type": "code",
   "execution_count": 14,
   "metadata": {},
   "outputs": [
    {
     "data": {
      "text/html": [
       "<div>\n",
       "<style scoped>\n",
       "    .dataframe tbody tr th:only-of-type {\n",
       "        vertical-align: middle;\n",
       "    }\n",
       "\n",
       "    .dataframe tbody tr th {\n",
       "        vertical-align: top;\n",
       "    }\n",
       "\n",
       "    .dataframe thead th {\n",
       "        text-align: right;\n",
       "    }\n",
       "</style>\n",
       "<table border=\"1\" class=\"dataframe\">\n",
       "  <thead>\n",
       "    <tr style=\"text-align: right;\">\n",
       "      <th></th>\n",
       "      <th>mrmr</th>\n",
       "      <th>relevance</th>\n",
       "      <th>redundancy</th>\n",
       "    </tr>\n",
       "  </thead>\n",
       "  <tbody>\n",
       "    <tr>\n",
       "      <th>genuine_num</th>\n",
       "      <td>inf</td>\n",
       "      <td>2.709076</td>\n",
       "      <td>0.000000</td>\n",
       "    </tr>\n",
       "    <tr>\n",
       "      <th>LSTAT</th>\n",
       "      <td>1411.820582</td>\n",
       "      <td>1.411821</td>\n",
       "      <td>0.001000</td>\n",
       "    </tr>\n",
       "    <tr>\n",
       "      <th>CHAS</th>\n",
       "      <td>732.822341</td>\n",
       "      <td>0.732822</td>\n",
       "      <td>0.001000</td>\n",
       "    </tr>\n",
       "    <tr>\n",
       "      <th>RAD</th>\n",
       "      <td>3.449563</td>\n",
       "      <td>0.989620</td>\n",
       "      <td>0.286883</td>\n",
       "    </tr>\n",
       "    <tr>\n",
       "      <th>RM</th>\n",
       "      <td>2.189394</td>\n",
       "      <td>0.942017</td>\n",
       "      <td>0.430264</td>\n",
       "    </tr>\n",
       "    <tr>\n",
       "      <th>PTRATIO</th>\n",
       "      <td>-0.272772</td>\n",
       "      <td>-0.132260</td>\n",
       "      <td>0.484873</td>\n",
       "    </tr>\n",
       "    <tr>\n",
       "      <th>INDUS</th>\n",
       "      <td>-0.505547</td>\n",
       "      <td>-0.208830</td>\n",
       "      <td>0.413078</td>\n",
       "    </tr>\n",
       "    <tr>\n",
       "      <th>TAX</th>\n",
       "      <td>-0.515649</td>\n",
       "      <td>-0.252974</td>\n",
       "      <td>0.490594</td>\n",
       "    </tr>\n",
       "    <tr>\n",
       "      <th>NOX</th>\n",
       "      <td>-0.650659</td>\n",
       "      <td>-0.358576</td>\n",
       "      <td>0.551097</td>\n",
       "    </tr>\n",
       "    <tr>\n",
       "      <th>AGE</th>\n",
       "      <td>-0.843860</td>\n",
       "      <td>-0.463976</td>\n",
       "      <td>0.549826</td>\n",
       "    </tr>\n",
       "  </tbody>\n",
       "</table>\n",
       "</div>"
      ],
      "text/plain": [
       "                    mrmr  relevance  redundancy\n",
       "genuine_num          inf   2.709076    0.000000\n",
       "LSTAT        1411.820582   1.411821    0.001000\n",
       "CHAS          732.822341   0.732822    0.001000\n",
       "RAD             3.449563   0.989620    0.286883\n",
       "RM              2.189394   0.942017    0.430264\n",
       "PTRATIO        -0.272772  -0.132260    0.484873\n",
       "INDUS          -0.505547  -0.208830    0.413078\n",
       "TAX            -0.515649  -0.252974    0.490594\n",
       "NOX            -0.650659  -0.358576    0.551097\n",
       "AGE            -0.843860  -0.463976    0.549826"
      ]
     },
     "execution_count": 14,
     "metadata": {},
     "output_type": "execute_result"
    }
   ],
   "source": [
    "fs_mrmr.ranking_"
   ]
  },
  {
   "attachments": {},
   "cell_type": "markdown",
   "metadata": {},
   "source": [
    "## ARFS - GrootCV\n",
    "\n",
    "Cross-validated, using a stopping criterion for the features to select, does not play well with high collinearity."
   ]
  },
  {
   "cell_type": "code",
   "execution_count": 15,
   "metadata": {},
   "outputs": [],
   "source": [
    "boston = load_data(name=\"Boston\")\n",
    "X, y = boston.data, boston.target\n",
    "y.name = \"target\""
   ]
  },
  {
   "cell_type": "code",
   "execution_count": 16,
   "metadata": {},
   "outputs": [
    {
     "name": "stderr",
     "output_type": "stream",
     "text": [
      "Repeated k-fold: 100%|██████████| 25/25 [00:04<00:00,  5.50it/s]\n"
     ]
    },
    {
     "name": "stdout",
     "output_type": "stream",
     "text": [
      "The selected features: ['CRIM' 'NOX' 'RM' 'AGE' 'DIS' 'TAX' 'PTRATIO' 'LSTAT' 'genuine_num']\n",
      "The agnostic ranking: [2 1 1 1 2 2 2 2 1 2 2 1 2 1 1 1 1 2]\n",
      "The naive ranking: ['LSTAT', 'RM', 'genuine_num', 'NOX', 'DIS', 'PTRATIO', 'CRIM', 'AGE', 'TAX', 'B', 'INDUS', 'random_num1', 'random_cat_2', 'random_cat', 'random_num2', 'RAD', 'CHAS', 'ZN']\n"
     ]
    },
    {
     "data": {
      "image/png": "[encoded data removed]",
      "text/plain": [
       "<Figure size 1600x360 with 1 Axes>"
      ]
     },
     "metadata": {},
     "output_type": "display_data"
    },
    {
     "name": "stdout",
     "output_type": "stream",
     "text": [
      "CPU times: total: 26.8 s\n",
      "Wall time: 5.22 s\n"
     ]
    }
   ],
   "source": [
    "%%time\n",
    "# GrootCV\n",
    "feat_selector = GrootCV(objective=\"rmse\", cutoff=1, n_folds=5, n_iter=5, silent=True)\n",
    "feat_selector.fit(X, y, sample_weight=None)\n",
    "print(f\"The selected features: {feat_selector.get_feature_names_out()}\")\n",
    "print(f\"The agnostic ranking: {feat_selector.ranking_}\")\n",
    "print(f\"The naive ranking: {feat_selector.ranking_absolutes_}\")\n",
    "fig = feat_selector.plot_importance(n_feat_per_inch=5)\n",
    "\n",
    "# highlight synthetic random variable\n",
    "fig = highlight_tick(figure=fig, str_match=\"random\")\n",
    "fig = highlight_tick(figure=fig, str_match=\"genuine\", color=\"green\")\n",
    "plt.show()"
   ]
  },
  {
   "attachments": {},
   "cell_type": "markdown",
   "metadata": {},
   "source": [
    "Using a pipeline for filtering out collinear features and improving the stability of the selection"
   ]
  },
  {
   "cell_type": "code",
   "execution_count": 17,
   "metadata": {},
   "outputs": [
    {
     "name": "stderr",
     "output_type": "stream",
     "text": [
      "Repeated k-fold: 100%|██████████| 25/25 [00:02<00:00,  8.52it/s]\n"
     ]
    }
   ],
   "source": [
    "feat_selector = GrootCV(objective=\"rmse\", cutoff=1, n_folds=5, n_iter=5, silent=True)\n",
    "\n",
    "arfs_fs_pipeline = Pipeline(\n",
    "    [\n",
    "        (\"missing\", MissingValueThreshold(threshold=0.05)),\n",
    "        (\"unique\", UniqueValuesThreshold(threshold=1)),\n",
    "        (\"collinearity\", CollinearityThreshold(threshold=0.85)),\n",
    "        (\"arfs\", feat_selector),\n",
    "    ]\n",
    ")\n",
    "\n",
    "X_trans = arfs_fs_pipeline.fit(X=X, y=y).transform(X=X)"
   ]
  },
  {
   "cell_type": "code",
   "execution_count": 18,
   "metadata": {},
   "outputs": [
    {
     "data": {
      "text/plain": [
       "array(['CHAS', 'RM', 'DIS', 'PTRATIO', 'random_num1', 'random_num2',\n",
       "       'random_cat_2', 'genuine_num'], dtype=object)"
      ]
     },
     "execution_count": 18,
     "metadata": {},
     "output_type": "execute_result"
    }
   ],
   "source": [
    "arfs_fs_pipeline.named_steps[\"collinearity\"].get_feature_names_out()"
   ]
  },
  {
   "cell_type": "code",
   "execution_count": 19,
   "metadata": {},
   "outputs": [
    {
     "data": {
      "image/png": "[encoded data removed]",
      "text/plain": [
       "<Figure size 800x800 with 2 Axes>"
      ]
     },
     "metadata": {},
     "output_type": "display_data"
    }
   ],
   "source": [
    "f = arfs_fs_pipeline.named_steps[\"collinearity\"].plot_association(figsize=(8, 8))"
   ]
  },
  {
   "cell_type": "code",
   "execution_count": 20,
   "metadata": {},
   "outputs": [
    {
     "data": {
      "image/png": "[encoded data removed]",
      "text/plain": [
       "<Figure size 1600x160 with 1 Axes>"
      ]
     },
     "metadata": {},
     "output_type": "display_data"
    }
   ],
   "source": [
    "fig = arfs_fs_pipeline.named_steps[\"arfs\"].plot_importance()\n",
    "# highlight synthetic random variable\n",
    "fig = highlight_tick(figure=fig, str_match=\"random\")\n",
    "fig = highlight_tick(figure=fig, str_match=\"genuine\", color=\"green\")\n",
    "plt.show()"
   ]
  },
  {
   "cell_type": "code",
   "execution_count": 21,
   "metadata": {},
   "outputs": [
    {
     "data": {
      "text/html": [
       "<style type=\"text/css\">\n",
       "#T_649e3_row0_col1, #T_649e3_row0_col2, #T_649e3_row1_col1, #T_649e3_row1_col2, #T_649e3_row2_col1, #T_649e3_row2_col2, #T_649e3_row3_col1, #T_649e3_row3_col2, #T_649e3_row3_col3, #T_649e3_row4_col1, #T_649e3_row4_col2, #T_649e3_row5_col1, #T_649e3_row5_col2, #T_649e3_row5_col3, #T_649e3_row5_col4, #T_649e3_row6_col1, #T_649e3_row6_col2, #T_649e3_row7_col1, #T_649e3_row7_col2, #T_649e3_row7_col3, #T_649e3_row7_col4, #T_649e3_row8_col1, #T_649e3_row8_col2, #T_649e3_row9_col1, #T_649e3_row9_col2, #T_649e3_row10_col1, #T_649e3_row10_col2, #T_649e3_row10_col3, #T_649e3_row10_col4, #T_649e3_row11_col1, #T_649e3_row11_col2, #T_649e3_row12_col1, #T_649e3_row12_col2, #T_649e3_row13_col1, #T_649e3_row13_col2, #T_649e3_row13_col3, #T_649e3_row14_col1, #T_649e3_row14_col2, #T_649e3_row14_col3, #T_649e3_row15_col1, #T_649e3_row15_col2, #T_649e3_row16_col1, #T_649e3_row16_col2, #T_649e3_row16_col3, #T_649e3_row17_col1, #T_649e3_row17_col2, #T_649e3_row17_col3, #T_649e3_row17_col4 {\n",
       "  background-color: #33a654;\n",
       "}\n",
       "#T_649e3_row0_col3, #T_649e3_row1_col3, #T_649e3_row2_col3, #T_649e3_row3_col4, #T_649e3_row4_col3, #T_649e3_row6_col3, #T_649e3_row8_col3, #T_649e3_row9_col3, #T_649e3_row11_col3, #T_649e3_row12_col3, #T_649e3_row13_col4, #T_649e3_row14_col4, #T_649e3_row15_col3, #T_649e3_row16_col4 {\n",
       "  background-color: #d65f5f;\n",
       "}\n",
       "#T_649e3_row0_col4, #T_649e3_row1_col4, #T_649e3_row2_col4, #T_649e3_row4_col4, #T_649e3_row6_col4, #T_649e3_row8_col4, #T_649e3_row9_col4, #T_649e3_row11_col4, #T_649e3_row12_col4, #T_649e3_row15_col4 {\n",
       "  background-color: #33a654;\n",
       "  background-color: #ffa500;\n",
       "}\n",
       "</style>\n",
       "<table id=\"T_649e3\">\n",
       "  <thead>\n",
       "    <tr>\n",
       "      <th class=\"blank level0\" >&nbsp;</th>\n",
       "      <th id=\"T_649e3_level0_col0\" class=\"col_heading level0 col0\" >predictor</th>\n",
       "      <th id=\"T_649e3_level0_col1\" class=\"col_heading level0 col1\" >missing</th>\n",
       "      <th id=\"T_649e3_level0_col2\" class=\"col_heading level0 col2\" >unique</th>\n",
       "      <th id=\"T_649e3_level0_col3\" class=\"col_heading level0 col3\" >collinearity</th>\n",
       "      <th id=\"T_649e3_level0_col4\" class=\"col_heading level0 col4\" >arfs</th>\n",
       "    </tr>\n",
       "  </thead>\n",
       "  <tbody>\n",
       "    <tr>\n",
       "      <th id=\"T_649e3_level0_row0\" class=\"row_heading level0 row0\" >0</th>\n",
       "      <td id=\"T_649e3_row0_col0\" class=\"data row0 col0\" >CRIM</td>\n",
       "      <td id=\"T_649e3_row0_col1\" class=\"data row0 col1\" >1</td>\n",
       "      <td id=\"T_649e3_row0_col2\" class=\"data row0 col2\" >1</td>\n",
       "      <td id=\"T_649e3_row0_col3\" class=\"data row0 col3\" >0</td>\n",
       "      <td id=\"T_649e3_row0_col4\" class=\"data row0 col4\" >nan</td>\n",
       "    </tr>\n",
       "    <tr>\n",
       "      <th id=\"T_649e3_level0_row1\" class=\"row_heading level0 row1\" >1</th>\n",
       "      <td id=\"T_649e3_row1_col0\" class=\"data row1 col0\" >ZN</td>\n",
       "      <td id=\"T_649e3_row1_col1\" class=\"data row1 col1\" >1</td>\n",
       "      <td id=\"T_649e3_row1_col2\" class=\"data row1 col2\" >1</td>\n",
       "      <td id=\"T_649e3_row1_col3\" class=\"data row1 col3\" >0</td>\n",
       "      <td id=\"T_649e3_row1_col4\" class=\"data row1 col4\" >nan</td>\n",
       "    </tr>\n",
       "    <tr>\n",
       "      <th id=\"T_649e3_level0_row2\" class=\"row_heading level0 row2\" >2</th>\n",
       "      <td id=\"T_649e3_row2_col0\" class=\"data row2 col0\" >INDUS</td>\n",
       "      <td id=\"T_649e3_row2_col1\" class=\"data row2 col1\" >1</td>\n",
       "      <td id=\"T_649e3_row2_col2\" class=\"data row2 col2\" >1</td>\n",
       "      <td id=\"T_649e3_row2_col3\" class=\"data row2 col3\" >0</td>\n",
       "      <td id=\"T_649e3_row2_col4\" class=\"data row2 col4\" >nan</td>\n",
       "    </tr>\n",
       "    <tr>\n",
       "      <th id=\"T_649e3_level0_row3\" class=\"row_heading level0 row3\" >3</th>\n",
       "      <td id=\"T_649e3_row3_col0\" class=\"data row3 col0\" >CHAS</td>\n",
       "      <td id=\"T_649e3_row3_col1\" class=\"data row3 col1\" >1</td>\n",
       "      <td id=\"T_649e3_row3_col2\" class=\"data row3 col2\" >1</td>\n",
       "      <td id=\"T_649e3_row3_col3\" class=\"data row3 col3\" >1</td>\n",
       "      <td id=\"T_649e3_row3_col4\" class=\"data row3 col4\" >0</td>\n",
       "    </tr>\n",
       "    <tr>\n",
       "      <th id=\"T_649e3_level0_row4\" class=\"row_heading level0 row4\" >4</th>\n",
       "      <td id=\"T_649e3_row4_col0\" class=\"data row4 col0\" >NOX</td>\n",
       "      <td id=\"T_649e3_row4_col1\" class=\"data row4 col1\" >1</td>\n",
       "      <td id=\"T_649e3_row4_col2\" class=\"data row4 col2\" >1</td>\n",
       "      <td id=\"T_649e3_row4_col3\" class=\"data row4 col3\" >0</td>\n",
       "      <td id=\"T_649e3_row4_col4\" class=\"data row4 col4\" >nan</td>\n",
       "    </tr>\n",
       "    <tr>\n",
       "      <th id=\"T_649e3_level0_row5\" class=\"row_heading level0 row5\" >5</th>\n",
       "      <td id=\"T_649e3_row5_col0\" class=\"data row5 col0\" >RM</td>\n",
       "      <td id=\"T_649e3_row5_col1\" class=\"data row5 col1\" >1</td>\n",
       "      <td id=\"T_649e3_row5_col2\" class=\"data row5 col2\" >1</td>\n",
       "      <td id=\"T_649e3_row5_col3\" class=\"data row5 col3\" >1</td>\n",
       "      <td id=\"T_649e3_row5_col4\" class=\"data row5 col4\" >1</td>\n",
       "    </tr>\n",
       "    <tr>\n",
       "      <th id=\"T_649e3_level0_row6\" class=\"row_heading level0 row6\" >6</th>\n",
       "      <td id=\"T_649e3_row6_col0\" class=\"data row6 col0\" >AGE</td>\n",
       "      <td id=\"T_649e3_row6_col1\" class=\"data row6 col1\" >1</td>\n",
       "      <td id=\"T_649e3_row6_col2\" class=\"data row6 col2\" >1</td>\n",
       "      <td id=\"T_649e3_row6_col3\" class=\"data row6 col3\" >0</td>\n",
       "      <td id=\"T_649e3_row6_col4\" class=\"data row6 col4\" >nan</td>\n",
       "    </tr>\n",
       "    <tr>\n",
       "      <th id=\"T_649e3_level0_row7\" class=\"row_heading level0 row7\" >7</th>\n",
       "      <td id=\"T_649e3_row7_col0\" class=\"data row7 col0\" >DIS</td>\n",
       "      <td id=\"T_649e3_row7_col1\" class=\"data row7 col1\" >1</td>\n",
       "      <td id=\"T_649e3_row7_col2\" class=\"data row7 col2\" >1</td>\n",
       "      <td id=\"T_649e3_row7_col3\" class=\"data row7 col3\" >1</td>\n",
       "      <td id=\"T_649e3_row7_col4\" class=\"data row7 col4\" >1</td>\n",
       "    </tr>\n",
       "    <tr>\n",
       "      <th id=\"T_649e3_level0_row8\" class=\"row_heading level0 row8\" >8</th>\n",
       "      <td id=\"T_649e3_row8_col0\" class=\"data row8 col0\" >RAD</td>\n",
       "      <td id=\"T_649e3_row8_col1\" class=\"data row8 col1\" >1</td>\n",
       "      <td id=\"T_649e3_row8_col2\" class=\"data row8 col2\" >1</td>\n",
       "      <td id=\"T_649e3_row8_col3\" class=\"data row8 col3\" >0</td>\n",
       "      <td id=\"T_649e3_row8_col4\" class=\"data row8 col4\" >nan</td>\n",
       "    </tr>\n",
       "    <tr>\n",
       "      <th id=\"T_649e3_level0_row9\" class=\"row_heading level0 row9\" >9</th>\n",
       "      <td id=\"T_649e3_row9_col0\" class=\"data row9 col0\" >TAX</td>\n",
       "      <td id=\"T_649e3_row9_col1\" class=\"data row9 col1\" >1</td>\n",
       "      <td id=\"T_649e3_row9_col2\" class=\"data row9 col2\" >1</td>\n",
       "      <td id=\"T_649e3_row9_col3\" class=\"data row9 col3\" >0</td>\n",
       "      <td id=\"T_649e3_row9_col4\" class=\"data row9 col4\" >nan</td>\n",
       "    </tr>\n",
       "    <tr>\n",
       "      <th id=\"T_649e3_level0_row10\" class=\"row_heading level0 row10\" >10</th>\n",
       "      <td id=\"T_649e3_row10_col0\" class=\"data row10 col0\" >PTRATIO</td>\n",
       "      <td id=\"T_649e3_row10_col1\" class=\"data row10 col1\" >1</td>\n",
       "      <td id=\"T_649e3_row10_col2\" class=\"data row10 col2\" >1</td>\n",
       "      <td id=\"T_649e3_row10_col3\" class=\"data row10 col3\" >1</td>\n",
       "      <td id=\"T_649e3_row10_col4\" class=\"data row10 col4\" >1</td>\n",
       "    </tr>\n",
       "    <tr>\n",
       "      <th id=\"T_649e3_level0_row11\" class=\"row_heading level0 row11\" >11</th>\n",
       "      <td id=\"T_649e3_row11_col0\" class=\"data row11 col0\" >B</td>\n",
       "      <td id=\"T_649e3_row11_col1\" class=\"data row11 col1\" >1</td>\n",
       "      <td id=\"T_649e3_row11_col2\" class=\"data row11 col2\" >1</td>\n",
       "      <td id=\"T_649e3_row11_col3\" class=\"data row11 col3\" >0</td>\n",
       "      <td id=\"T_649e3_row11_col4\" class=\"data row11 col4\" >nan</td>\n",
       "    </tr>\n",
       "    <tr>\n",
       "      <th id=\"T_649e3_level0_row12\" class=\"row_heading level0 row12\" >12</th>\n",
       "      <td id=\"T_649e3_row12_col0\" class=\"data row12 col0\" >LSTAT</td>\n",
       "      <td id=\"T_649e3_row12_col1\" class=\"data row12 col1\" >1</td>\n",
       "      <td id=\"T_649e3_row12_col2\" class=\"data row12 col2\" >1</td>\n",
       "      <td id=\"T_649e3_row12_col3\" class=\"data row12 col3\" >0</td>\n",
       "      <td id=\"T_649e3_row12_col4\" class=\"data row12 col4\" >nan</td>\n",
       "    </tr>\n",
       "    <tr>\n",
       "      <th id=\"T_649e3_level0_row13\" class=\"row_heading level0 row13\" >13</th>\n",
       "      <td id=\"T_649e3_row13_col0\" class=\"data row13 col0\" >random_num1</td>\n",
       "      <td id=\"T_649e3_row13_col1\" class=\"data row13 col1\" >1</td>\n",
       "      <td id=\"T_649e3_row13_col2\" class=\"data row13 col2\" >1</td>\n",
       "      <td id=\"T_649e3_row13_col3\" class=\"data row13 col3\" >1</td>\n",
       "      <td id=\"T_649e3_row13_col4\" class=\"data row13 col4\" >0</td>\n",
       "    </tr>\n",
       "    <tr>\n",
       "      <th id=\"T_649e3_level0_row14\" class=\"row_heading level0 row14\" >14</th>\n",
       "      <td id=\"T_649e3_row14_col0\" class=\"data row14 col0\" >random_num2</td>\n",
       "      <td id=\"T_649e3_row14_col1\" class=\"data row14 col1\" >1</td>\n",
       "      <td id=\"T_649e3_row14_col2\" class=\"data row14 col2\" >1</td>\n",
       "      <td id=\"T_649e3_row14_col3\" class=\"data row14 col3\" >1</td>\n",
       "      <td id=\"T_649e3_row14_col4\" class=\"data row14 col4\" >0</td>\n",
       "    </tr>\n",
       "    <tr>\n",
       "      <th id=\"T_649e3_level0_row15\" class=\"row_heading level0 row15\" >15</th>\n",
       "      <td id=\"T_649e3_row15_col0\" class=\"data row15 col0\" >random_cat</td>\n",
       "      <td id=\"T_649e3_row15_col1\" class=\"data row15 col1\" >1</td>\n",
       "      <td id=\"T_649e3_row15_col2\" class=\"data row15 col2\" >1</td>\n",
       "      <td id=\"T_649e3_row15_col3\" class=\"data row15 col3\" >0</td>\n",
       "      <td id=\"T_649e3_row15_col4\" class=\"data row15 col4\" >nan</td>\n",
       "    </tr>\n",
       "    <tr>\n",
       "      <th id=\"T_649e3_level0_row16\" class=\"row_heading level0 row16\" >16</th>\n",
       "      <td id=\"T_649e3_row16_col0\" class=\"data row16 col0\" >random_cat_2</td>\n",
       "      <td id=\"T_649e3_row16_col1\" class=\"data row16 col1\" >1</td>\n",
       "      <td id=\"T_649e3_row16_col2\" class=\"data row16 col2\" >1</td>\n",
       "      <td id=\"T_649e3_row16_col3\" class=\"data row16 col3\" >1</td>\n",
       "      <td id=\"T_649e3_row16_col4\" class=\"data row16 col4\" >0</td>\n",
       "    </tr>\n",
       "    <tr>\n",
       "      <th id=\"T_649e3_level0_row17\" class=\"row_heading level0 row17\" >17</th>\n",
       "      <td id=\"T_649e3_row17_col0\" class=\"data row17 col0\" >genuine_num</td>\n",
       "      <td id=\"T_649e3_row17_col1\" class=\"data row17 col1\" >1</td>\n",
       "      <td id=\"T_649e3_row17_col2\" class=\"data row17 col2\" >1</td>\n",
       "      <td id=\"T_649e3_row17_col3\" class=\"data row17 col3\" >1</td>\n",
       "      <td id=\"T_649e3_row17_col4\" class=\"data row17 col4\" >1</td>\n",
       "    </tr>\n",
       "  </tbody>\n",
       "</table>\n"
      ],
      "text/plain": [
       "<pandas.io.formats.style.Styler at 0x1b53e4befa0>"
      ]
     },
     "execution_count": 21,
     "metadata": {},
     "output_type": "execute_result"
    }
   ],
   "source": [
    "make_fs_summary(arfs_fs_pipeline)"
   ]
  }
 ],
 "metadata": {
  "kernelspec": {
   "display_name": "arfs-env",
   "language": "python",
   "name": "python3"
  },
  "language_info": {
   "codemirror_mode": {
    "name": "ipython",
    "version": 3
   },
   "file_extension": ".py",
   "mimetype": "text/x-python",
   "name": "python",
   "nbconvert_exporter": "python",
   "pygments_lexer": "ipython3",
   "version": "3.9.15 | packaged by conda-forge | (main, Nov 22 2022, 08:39:05) [MSC v.1929 64 bit (AMD64)]"
  },
  "vscode": {
   "interpreter": {
    "hash": "dc5365a4b2ce0cb283277bcba6a2c75541e4b930f1478f6e09f493039ef1ca26"
   }
  }
 },
 "nbformat": 4,
 "nbformat_minor": 4
}
